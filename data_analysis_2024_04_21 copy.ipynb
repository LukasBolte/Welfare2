{
 "cells": [
  {
   "cell_type": "markdown",
   "metadata": {},
   "source": [
    "# Analysis of \"Welfare\"\n"
   ]
  },
  {
   "cell_type": "code",
   "execution_count": 35,
   "metadata": {},
   "outputs": [
    {
     "name": "stdout",
     "output_type": "stream",
     "text": [
      "Completion rate: 0.96\n",
      "Number of participants 1478\n",
      "Inconsistent? 0.38\n",
      "Misunderstanding? 0.51\n",
      "Understands difference between cases? 0.56\n",
      "ChatGPT? 0.99\n",
      "test\n"
     ]
    }
   ],
   "source": [
    "import os\n",
    "import pandas as pd\n",
    "import numpy as np\n",
    "import matplotlib.pyplot as plt\n",
    "import json\n",
    "import re \n",
    "\n",
    "from matplotlib import rc\n",
    "plt.rcParams.update({\n",
    "    \"pgf.texsystem\": \"pdflatex\",\n",
    "    'font.family': 'serif',\n",
    "    'font.size': 8,\n",
    "    'text.usetex': True,\n",
    "    'pgf.rcfonts': False,\n",
    "})\n",
    "\n",
    "restricted_sample_own = False \n",
    "restricted_sample_RAs = False \n",
    "\n",
    "def load_csv_files(subfolder_name):\n",
    "    notebook_path = os.path.dirname(os.path.abspath('__file__'))\n",
    "    data_folder_path = os.path.join(notebook_path, 'data', subfolder_name)\n",
    "\n",
    "    all_dataframes = []\n",
    "    \n",
    "    # Get a list of all files in the subfolder\n",
    "    files = os.listdir(data_folder_path)\n",
    "\n",
    "    # Loop through each file and load it as a pandas DataFrame\n",
    "    for file in files:\n",
    "        if file.startswith('all_apps_wide') and file.endswith('.csv'):\n",
    "            file_path = os.path.join(data_folder_path, file)\n",
    "            df = pd.read_csv(file_path)\n",
    "            all_dataframes.append(df)\n",
    "\n",
    "    # Concatenate all DataFrames into one, stacking them on top of each other\n",
    "    combined_df = pd.concat(all_dataframes, ignore_index=True)\n",
    "\n",
    "    return combined_df\n",
    "\n",
    "# Usage:\n",
    "subfolder_name = '2023-08-main_sample'\n",
    "data = load_csv_files(subfolder_name)\n",
    "\n",
    "\n",
    "# Remove duplicates based on all columns\n",
    "data.drop_duplicates(inplace=True)\n",
    "\n",
    "# Restrict to sessions:\n",
    "def restrict_to_sessions(data, session_codes):\n",
    "    return data[data['session.code'].isin(session_codes)]\n",
    "\n",
    "session_codes = []\n",
    "if session_codes:\n",
    "    data = restrict_to_sessions(data, session_codes)\n",
    "\n",
    "data.columns = data.columns.str.replace('participant.', '')\n",
    "\n",
    "# Add demographics from Prolific\n",
    "notebook_path = os.path.dirname(os.path.abspath('__file__'))\n",
    "data_folder_path = os.path.join(notebook_path, 'data', subfolder_name)\n",
    "\n",
    "files = os.listdir(data_folder_path)\n",
    "for file in files:\n",
    "    if file.startswith('prolific_export') and file.endswith('.csv'):\n",
    "        file_path = os.path.join(data_folder_path, file)\n",
    "        demographics = pd.read_csv(file_path)\n",
    "\n",
    "demographics.rename(columns={'Participant id':'label'}, inplace=True)\n",
    "data = data.merge(demographics, how='outer',on='label')\n",
    "\n",
    "# List of pages to check against\n",
    "pages_to_exclude = ['Welcome', 'Consent']\n",
    "\n",
    "# Create new columns based on conditions\n",
    "data['started_experiment'] = data['_current_page_name'].apply(lambda x: x not in pages_to_exclude and pd.notna(x))\n",
    "data['finished_experiment'] = data['_current_page_name'].apply(lambda x: x in ['End','Finished'])\n",
    "\n",
    "# Calculate completion rate\n",
    "finished_experiment_count = data['finished_experiment'].sum()\n",
    "started_experiment_count = data['started_experiment'].sum()\n",
    "completion_rate = finished_experiment_count / started_experiment_count\n",
    "\n",
    "print('Completion rate:', round(completion_rate,2))\n",
    "print('Number of participants', finished_experiment_count)\n",
    "\n",
    "data = data[data['finished_experiment']]\n",
    "\n",
    "# Add classification by Gonzalo and Lukas\n",
    "file_path = 'data/2023-08-main_sample/MPLWhy-2.xlsx'\n",
    "\n",
    "# Read the Excel file into a DataFrame with column names from the Excel file.\n",
    "df = pd.read_excel(file_path, header=None)\n",
    "\n",
    "# Optionally, you can rename the columns using the first row.\n",
    "df.columns = df.iloc[0]\n",
    "\n",
    "column_mapping = {col: f'aux_{col}' if col != 'label' else col for col in df.columns}\n",
    "\n",
    "# Drop the first row if it contains the column names.\n",
    "df = df[1:]\n",
    "\n",
    "# Rename the columns using the mapping\n",
    "df = df.rename(columns=column_mapping)\n",
    "\n",
    "merged_df = pd.merge(data, df, on='label', how='inner')\n",
    "\n",
    "merged_df['aux_classification'] = merged_df['aux_classification'].str.replace(' ', '').str.lower()\n",
    "\n",
    "cond1 = merged_df['aux_classification'] == 'p'\n",
    "cond2 = merged_df['aux_classification'] == 'g'\n",
    "\n",
    "if restricted_sample_own:\n",
    "    merged_df = merged_df[cond1 | cond2]\n",
    "\n",
    "data = merged_df\n",
    "\n",
    "# Add classification by CMU RAs\n",
    "\n",
    "files = os.listdir(data_folder_path)\n",
    "all_classifications = []\n",
    "for file in files:\n",
    "    if file.startswith('Welfare Project_ Classification of Answers') and file.endswith('.csv'):\n",
    "        file_path = os.path.join(data_folder_path, file)\n",
    "        match = re.search(r'List (\\d+).csv', file_path)\n",
    "\n",
    "        classification = pd.read_csv(file_path, header=1)\n",
    "        \n",
    "        if 'Isha' not in file:  # Reverse the rows for file2.csv\n",
    "            classification = classification.loc[::-1].reset_index(drop=True)\n",
    "            \n",
    "        pattern = r'List (\\d+)'\n",
    "\n",
    "        # Search for the pattern in the string\n",
    "        match = re.search(pattern, file)\n",
    "\n",
    "        # Check if a match is found\n",
    "        if match:\n",
    "            # Extract the number found in the match\n",
    "            number = int(match.group(1))\n",
    "        else:\n",
    "            print(\"Pattern not found in the string.\")\n",
    "\n",
    "\n",
    "        new_columns = {col: f'file{number}_{col}' for col in classification.columns}\n",
    "        classification.rename(columns=new_columns, inplace=True)\n",
    "\n",
    "        all_classifications.append(classification)\n",
    "\n",
    "\n",
    "    # Concatenate all DataFrames into one, stacking them on top of each other\n",
    "    combined_df = pd.concat(all_classifications, axis=1)\n",
    "\n",
    "merged_df = pd.concat([data, combined_df], axis=1)\n",
    "\n",
    "data=merged_df\n",
    "\n",
    "columns = ['Inconsistent?', 'Misunderstanding?', 'Understands difference between cases?', 'ChatGPT?']\n",
    "for col in columns:\n",
    "\n",
    "    # List of columns to apply the transformation to\n",
    "    columns_to_transform = [f'file1_{col}', f'file2_{col}',f'file3_{col}']\n",
    "\n",
    "    # Strip spaces and convert to lowercase for the specified columns\n",
    "    data[columns_to_transform] = data[columns_to_transform].applymap(lambda x: x.strip().lower() if isinstance(x, str) else x)\n",
    "\n",
    "\n",
    "    data[col] = data[columns_to_transform].mode(axis=1).iloc[:, 0]\n",
    "\n",
    "\n",
    "    data[f'{col}_same'] = (data[columns_to_transform[0]] == data[columns_to_transform[1]]) & (data[columns_to_transform[0]] == data[columns_to_transform[2]]  )\n",
    "\n",
    "    print(col, round(data[f'{col}_same'].mean(),2))\n",
    "\n",
    "cond1 = data['Inconsistent?'] == 'no'\n",
    "cond2 = data['Misunderstanding?'] == 'no'\n",
    "cond3 = data['Understands difference between cases?'] == 'yes'\n",
    "cond4 = data['ChatGPT?'] == 'no'\n",
    "\n",
    "if False:\n",
    "    data = data[cond1 & cond2 & cond4]\n",
    "\n",
    "# Add forecasts\n",
    "csv_file_path = 'data/forecasts.csv'\n",
    "\n",
    "# Read the CSV file into a DataFrame\n",
    "forecasts = pd.read_csv(csv_file_path)\n",
    "\n",
    "forecasts = forecasts[2:]\n",
    "\n",
    "forecasts = forecasts[forecasts['Status']=='0']\n",
    "\n",
    "print('test')\n",
    "\n"
   ]
  },
  {
   "cell_type": "code",
   "execution_count": 42,
   "metadata": {},
   "outputs": [
    {
     "name": "stdout",
     "output_type": "stream",
     "text": [
      "file1_treatment\n",
      "low       497\n",
      "middle    493\n",
      "high      488\n",
      "Name: count, dtype: int64\n",
      "1478\n",
      "Index of the first row with 'yes': 56\n"
     ]
    },
    {
     "data": {
      "text/plain": [
       "Misunderstanding?\n",
       "no     440\n",
       "yes     53\n",
       "Name: count, dtype: int64"
      ]
     },
     "execution_count": 42,
     "metadata": {},
     "output_type": "execute_result"
    }
   ],
   "source": [
    "data.columns\n",
    "\n",
    "\n",
    "\n",
    "print(data['file1_treatment'].value_counts())\n",
    "\n",
    "\n",
    "# for col in data.columns:\n",
    "#     if 'treatment' in col: print(col)\n",
    "\n",
    "# data[['file1_treatment', 'file2_treatment', 'file3_treatment']]\n",
    "\n",
    "# data[['Inconsistent?','Misunderstanding?', 'Understands difference between cases?', 'ChatGPT?']]\n",
    "\n",
    "print(len(data))\n",
    "\n",
    "data_baseline = data[data['file1_treatment'] == 'middle']\n",
    "\n",
    "data_baseline['Misunderstanding?'].value_counts()\n",
    "\n",
    "\n",
    "for el in data_baseline['Misunderstanding?']:\n",
    "    # print(el)\n",
    "    pass\n",
    "\n",
    "\n",
    "# Assuming your DataFrame is named 'df' and the column you want to search is named 'myColumn'\n",
    "index_of_first_yes = data.index[data['Misunderstanding?'] == 'yes'].min()\n",
    "\n",
    "print(\"Index of the first row with 'yes':\", index_of_first_yes)\n",
    "\n",
    "data_baseline['Misunderstanding?'].value_counts()\n",
    "\n",
    "\n"
   ]
  },
  {
   "cell_type": "code",
   "execution_count": 48,
   "metadata": {},
   "outputs": [
    {
     "data": {
      "text/plain": [
       "file1_Misunderstanding?                                                  yes\n",
       "file2_Misunderstanding?                                                  yes\n",
       "file3_Misunderstanding?                                                  yes\n",
       "welfare.2.player.MPLWhy    I would like for him to get the original ones ...\n",
       "Name: 334, dtype: object"
      ]
     },
     "execution_count": 48,
     "metadata": {},
     "output_type": "execute_result"
    }
   ],
   "source": [
    "data['Understands difference between cases?'].value_counts()\n",
    "\n",
    "column_to_save = data_baseline[['Misunderstanding?']]\n",
    "\n",
    "\n",
    "# Save the column to a CSV file\n",
    "column_to_save.to_csv('Python_Misunderstanding.csv', index=False)\n",
    "\n",
    "len(data_baseline)\n",
    "\n",
    "data_baseline[['file1_Misunderstanding?', 'file2_Misunderstanding?', 'file3_Misunderstanding?','welfare.2.player.MPLWhy']].iloc[107]\n"
   ]
  },
  {
   "cell_type": "code",
   "execution_count": null,
   "metadata": {},
   "outputs": [
    {
     "ename": "NameError",
     "evalue": "name 'data' is not defined",
     "output_type": "error",
     "traceback": [
      "\u001b[0;31m---------------------------------------------------------------------------\u001b[0m",
      "\u001b[0;31mNameError\u001b[0m                                 Traceback (most recent call last)",
      "Cell \u001b[0;32mIn[3], line 2\u001b[0m\n\u001b[1;32m      1\u001b[0m \u001b[38;5;66;03m# Filter the DataFrame to only include rows where 'finished_experiment' is True\u001b[39;00m\n\u001b[0;32m----> 2\u001b[0m data \u001b[38;5;241m=\u001b[39m \u001b[43mdata\u001b[49m[data[\u001b[38;5;124m'\u001b[39m\u001b[38;5;124mfinished_experiment\u001b[39m\u001b[38;5;124m'\u001b[39m]]\n\u001b[1;32m      4\u001b[0m \u001b[38;5;66;03m# Rename columns\u001b[39;00m\n\u001b[1;32m      5\u001b[0m data[\u001b[38;5;124m'\u001b[39m\u001b[38;5;124mmistakes_cq6\u001b[39m\u001b[38;5;124m'\u001b[39m] \u001b[38;5;241m=\u001b[39m data[\u001b[38;5;124m'\u001b[39m\u001b[38;5;124mwelfare.1.player.cq6_ambiguous_mistakes\u001b[39m\u001b[38;5;124m'\u001b[39m]\u001b[38;5;241m+\u001b[39m data[\u001b[38;5;124m'\u001b[39m\u001b[38;5;124mwelfare.1.player.cq6_treatments_mistakes\u001b[39m\u001b[38;5;124m'\u001b[39m]\n",
      "\u001b[0;31mNameError\u001b[0m: name 'data' is not defined"
     ]
    }
   ],
   "source": [
    "# Filter the DataFrame to only include rows where 'finished_experiment' is True\n",
    "data = data[data['finished_experiment']]\n",
    "\n",
    "# Rename columns\n",
    "data['mistakes_cq6'] = data['welfare.1.player.cq6_ambiguous_mistakes']+ data['welfare.1.player.cq6_treatments_mistakes']\n",
    "data.rename(columns={'welfare.1.player.'+cq+'_mistakes': 'mistakes_'+cq for cq in ['cq1','cq2','cq3','cq4','cq5']}, inplace=True)\n",
    "data['mistakes_total'] = data[['mistakes_cq1', 'mistakes_cq2', 'mistakes_cq3', 'mistakes_cq4', 'mistakes_cq5', 'mistakes_cq6']].sum(axis=1)\n",
    "\n",
    "# Calculate share of entries where 'welfare.1.player.confirm' equals 1\n",
    "total_entries = len(data)\n",
    "count_equal_1 = data['welfare.1.player.confirm'].eq(1).sum()\n",
    "share_equal_1 = count_equal_1 / total_entries\n",
    "\n",
    "print('Participants who confirmed their answers the first time:', share_equal_1)\n",
    "\n",
    "# Filter the DataFrame to only include rows where 'finished_experiment' is True\n",
    "data = data[data['finished_experiment']]\n",
    "\n",
    "# Functions to calculate values based on 'welfare.1.player.confirm'\n",
    "def calculate_wtp(row, column_suffix):\n",
    "    return row[f\"welfare.{int(row['welfare.1.player.confirm'])}.player.{column_suffix}\"]\n",
    "\n",
    "for el in ['ES', 'Trad']:\n",
    "    data[f'{el}_wtp'] = data.apply(lambda row: calculate_wtp(row, f'{el}_wtp'), axis=1)\n",
    "    data[f'{el}_wtp2'] = data.apply(lambda row: calculate_wtp(row, f'{el}_wtp2'), axis=1)\n",
    "    data[f'{el}_wtp3'] = data.apply(lambda row: calculate_wtp(row, f'{el}_wtp3'), axis=1)\n",
    "\n",
    "\n",
    "data['original_first'] = data['choices_orders'].isin([1,3,6])\n",
    "\n",
    "# Function to get WTP bounds\n",
    "for el in ['ES', 'Trad']:\n",
    "    def get_wtp_bound(row): \n",
    "        wtp3 = row[f'{el}_wtp3']\n",
    "        if wtp3 is None or pd.isna(wtp3):\n",
    "            return \"WTP is None\"\n",
    "        cutoff = json.loads(wtp3)['cutoff']\n",
    "        parts = cutoff.split(\":\")\n",
    "        side = parts[0]\n",
    "        row_choice = int(parts[1])\n",
    "\n",
    "        if row['original_first']==False:\n",
    "            side = {'left':'right','right':'left'}[side]\n",
    "\n",
    "        if side == \"right\":\n",
    "            row_choice = row_choice - 1\n",
    "            side = \"left\"\n",
    "\n",
    "        WTP_VALUES = [1, 2, 3, 5, 7, 10, 15, 25, 45, 70, 100, 140, 200, float('inf')]\n",
    "\n",
    "        WTP_bound = (WTP_VALUES[row_choice + 1], WTP_VALUES[row_choice + 2])\n",
    "        return WTP_bound\n",
    "    \n",
    "    data[f'{el}_wtp3_bounds'] = data.apply(get_wtp_bound,axis=1)\n",
    "\n",
    "# Function to modify column1\n",
    "def modify_column1(entry, col2_value, col3_value):\n",
    "    if col2_value == 3:\n",
    "        return (0, 0)\n",
    "    elif col2_value == 2:\n",
    "        if col3_value == 1:\n",
    "            return (-1, 0)\n",
    "        elif col3_value == 2:\n",
    "            return (-float('inf'), -1)\n",
    "    elif col2_value == 1:\n",
    "        if col3_value == 2:\n",
    "            return (0, 1)\n",
    "        else: \n",
    "            return entry\n",
    "\n",
    "# Function to calculate average\n",
    "def calculate_average(tup):\n",
    "    if np.inf in tup or -np.inf in tup:\n",
    "        return tup[1]  if tup[0] in [-np.inf,np.inf] else tup[0] \n",
    "    return (tup[0] + tup[1]) / 2\n",
    "\n",
    "# Apply the function to modify 'Column1'\n",
    "for el in ['ES', 'Trad']:\n",
    "    data[f'{el}_wtp3_bounds'] = data.apply(lambda row: modify_column1(row[f'{el}_wtp3_bounds'], row[f'{el}_wtp'], row[f'{el}_wtp2']), axis=1)\n",
    "    data[f'{el}_wtp_point'] = data[f'{el}_wtp3_bounds'].apply(calculate_average)\n",
    "\n",
    "# Calculate the time difference and create a new column 'study_duration'\n",
    "data['study_duration'] = data['end_time'] - data['start_time']\n",
    "\n",
    "# Rename certain columns\n",
    "data.rename(columns={'welfare.2.player.'+el: el for el in ['warhol','arkansas','experience'] + ['feedback'] + ['feedbackDifficulty', 'feedbackUnderstanding', 'feedbackSatisfied', 'feedbackPay']+ ['MPLWhy'] + ['warholWhy','arkansasWhy','experienceWhy']}, inplace=True)\n",
    "\n",
    "# Replace certain values\n",
    "data['experience'] = data['experience'].replace({1.0: 'Yes', 0.0: 'No'})\n",
    "data['warhol'] = data['warhol'].replace({1.0: 'Yes', 0.0: 'No'})\n",
    "data['arkansas'] = data['arkansas'].replace({1.0: 'Better off', 0.0: 'Worse off'})\n",
    "\n",
    "# Create output folders if they don't exist\n",
    "restricted_sample_addition = '_restricted' if restricted_sample_own else ''\n",
    "restricted_sample_addition = '_restricted_RAs' if restricted_sample_RAs else restricted_sample_addition\n",
    "output_folder = os.path.join(os.getcwd(), 'output')\n",
    "if not os.path.exists(output_folder):\n",
    "    os.makedirs(output_folder)\n",
    "\n",
    "subfolder_path = os.path.join(output_folder, subfolder_name+restricted_sample_addition)\n",
    "if not os.path.exists(subfolder_path):\n",
    "    os.makedirs(subfolder_path)\n",
    "\n",
    "data['share_ES'] = data['ES_wtp_point'] / data['Trad_wtp_point']\n",
    "\n",
    "cond1 = data['ES_wtp_point'] == data['Trad_wtp_point']\n",
    "data['pure_ES'] = cond1\n",
    "\n",
    "cond1 = data['ES_wtp_point'] == 0\n",
    "data['pure_MS'] = cond1\n",
    "\n",
    "CI_CONSTANT = 1.959964\n",
    "\n",
    "\n",
    "labels_unincentivized = {\n",
    "    'warhol': [('No', 'No (MS)'), ('Yes', 'Yes (ES)')],\n",
    "    'arkansas': [('Worse off', 'Worse off (MS)'), ('Better off', 'Better off (ES)')],\n",
    "    'experience': [('Yes', 'Yes (MS)'), ('No', 'No (ES)')],\n",
    "}\n",
    "# Functions to plot and save CDF, boxplot, and bar chart\n",
    "def plot_and_save_cdf(data, column_names, filename):\n",
    "    # Create a figure and axis\n",
    "    fig, ax = plt.subplots()\n",
    "\n",
    "    # Loop through the list of column names\n",
    "    for column_name in column_names:\n",
    "        # Calculate and plot the stepwise CDF\n",
    "        sorted_data = np.sort(data[column_name])\n",
    "        cdf = np.arange(1, len(sorted_data) + 1) / len(sorted_data)\n",
    "        ax.step(sorted_data, cdf, where='post', label=column_name.capitalize())\n",
    "\n",
    "    # Add labels and title\n",
    "    ax.set_xlabel('Values')\n",
    "    ax.set_ylabel('CDF')\n",
    "    ax.set_title(f'Stepwise Cumulative Distribution Function of Columns')\n",
    "    ax.legend()\n",
    "\n",
    "    # Show the plot\n",
    "    ax.grid(True)\n",
    "\n",
    "    # Save the figure in the subfolder\n",
    "    file_path = os.path.join(subfolder_path, f'stepwise_cdf_{filename}.png')\n",
    "    plt.savefig(file_path)\n",
    "\n",
    "    # Display the plot (optional)\n",
    "    plt.show()\n",
    "\n",
    "\n",
    "def plot_and_save_cdf_by_treatment(data, column_names, treatment_column, filename):\n",
    "    # Get unique treatment values\n",
    "    unique_treatments = data[treatment_column].unique()\n",
    "\n",
    "    # Create a figure and axis\n",
    "    fig, ax = plt.subplots()\n",
    "\n",
    "    # Loop through the list of column names\n",
    "    for column_name in column_names:\n",
    "        # Loop through unique treatments and plot separate CDF for each\n",
    "        for treatment in unique_treatments:\n",
    "            treatment_data = data[data[treatment_column] == treatment]\n",
    "            sorted_data = np.sort(treatment_data[column_name])\n",
    "            cdf = np.arange(1, len(sorted_data) + 1) / len(sorted_data)\n",
    "            ax.step(sorted_data, cdf, where='pre', label=f'{treatment} - {column_name.capitalize()}')\n",
    "\n",
    "    # Add labels and title\n",
    "    ax.set_xlabel('Values')\n",
    "    ax.set_ylabel('CDF')\n",
    "    ax.set_title(f'Stepwise CDF by Treatment for Columns')\n",
    "    ax.legend()\n",
    "\n",
    "    # Show the plot\n",
    "    ax.grid(True)\n",
    "\n",
    "    # Save the figure in the subfolder\n",
    "    file_path = os.path.join(subfolder_path, f'stepwise_cdf_by_treatment_{filename}.png')\n",
    "    plt.savefig(file_path)\n",
    "\n",
    "    # Display the plot (optional)\n",
    "    plt.show()\n",
    "\n",
    "\n",
    "def plot_and_save_boxplot(data, column_names, filename):\n",
    "    # Create a figure and axis\n",
    "    fig, ax = plt.subplots()\n",
    "\n",
    "    # Data for boxplot\n",
    "    data_to_plot = [data[column_name] for column_name in column_names]\n",
    "\n",
    "    # Create the boxplot\n",
    "    ax.boxplot(data_to_plot, labels=column_names)\n",
    "\n",
    "    # Add labels and title\n",
    "    ax.set_ylabel('Values')\n",
    "    ax.set_title(f'Boxplot of Columns')\n",
    "\n",
    "    # Show the plot\n",
    "    ax.grid(True)\n",
    "\n",
    "    # Save the boxplot in the subfolder\n",
    "    file_path = os.path.join(subfolder_path, f'boxplot_{filename}.png')\n",
    "    plt.savefig(file_path)\n",
    "\n",
    "    # Display the plot (optional)\n",
    "    plt.show()\n",
    "\n",
    "def plot_and_save_bar_chart(data, column_name, subfolder_name):\n",
    "    # Create a figure and axis\n",
    "    fig, ax = plt.subplots()\n",
    "\n",
    "    # Data for bar chart\n",
    "    value_counts = data[column_name].value_counts(normalize=True) \n",
    "\n",
    "\n",
    "    # print([el[1] for el in labels_unincentivized[column_name]])\n",
    "    if column_name in labels_unincentivized:\n",
    "        print(value_counts)\n",
    "        # value_counts = value_counts.reindex(index=[jj[1] for jj in labels_unincentivized[column_name]])\n",
    "        y_data = [value_counts[ii[0]] for ii in labels_unincentivized[column_name]]\n",
    "        x_data = [ii[1] for ii in labels_unincentivized[column_name]]\n",
    "\n",
    "        std_errors = data.groupby(column_name).size().apply(lambda x: x**0.5 / len(data))\n",
    "\n",
    "        std_errors = [std_errors[ii[0]] for ii in labels_unincentivized[column_name]]\n",
    "\n",
    "        print(y_data,x_data)\n",
    "        yerr = [CI_CONSTANT*std_errors[kk] for kk in range(len(std_errors))]\n",
    "        ax.bar(x_data,y_data, color='none', edgecolor='black')\n",
    "    \n",
    "    else:\n",
    "\n",
    "        # Create the bar chart with frequencies as heights and unique values as x-axis labels\n",
    "        ax.bar(value_counts.index, value_counts)\n",
    "\n",
    "     # Set the y-axis limits to always go from 0 to 1\n",
    "    ax.set_ylim(0, 1)\n",
    "    # Add labels and title\n",
    "    # ax.set_xlabel(column_name)\n",
    "    # ax.set_ylabel('Frequency')\n",
    "    # ax.set_title(f'Bar Chart of {column_name} Frequencies')\n",
    "    fig.set_size_inches(w=3, h=2)\n",
    "    plt.tight_layout()\n",
    "\n",
    "    # Save the bar chart in the subfolder\n",
    "    file_path = os.path.join(subfolder_path, f'bar_chart_{column_name}_frequencies.pdf')\n",
    "    plt.savefig(file_path)\n",
    "\n",
    "    # Display the plot (optional)\n",
    "    plt.show()\n",
    "\n",
    "def plot_and_save_scatter(data, x_column, y_column, subfolder_name):\n",
    "    # Create a figure and axis\n",
    "    fig, ax = plt.subplots()\n",
    "\n",
    "    # Get the counts of each unique pair of (x, y) coordinates\n",
    "    counts = data.groupby([x_column, y_column]).size().reset_index(name='count')\n",
    "\n",
    "    # Merge counts back with the original data to match (x, y) coordinates\n",
    "    merged_data = data.merge(counts, on=[x_column, y_column])\n",
    "\n",
    "    # Scatter plot with increased size for dots with multiple occurrences\n",
    "    ax.scatter(merged_data[x_column], merged_data[y_column], s=merged_data['count'] * 10)  # You can adjust the multiplier (10 in this case) as needed\n",
    "\n",
    "    # Add labels and title\n",
    "    ax.set_xlabel(x_column)\n",
    "    ax.set_ylabel(y_column)\n",
    "    ax.set_title(f'Scatter Plot of {x_column} vs. {y_column}')\n",
    "\n",
    "    # Show the plot\n",
    "    ax.grid(True)\n",
    "\n",
    "    # Create the subfolder if it doesn't exist\n",
    "    subfolder_path = os.path.join('Output', subfolder_name)\n",
    "    if not os.path.exists(subfolder_path):\n",
    "        os.mkdir(subfolder_path)\n",
    "\n",
    "    # Save the scatter plot in the subfolder\n",
    "    file_path = os.path.join(subfolder_path, f'scatter_plot_{x_column}_vs_{y_column}.png')\n",
    "    plt.savefig(file_path)\n",
    "\n",
    "    # Display the plot (optional)\n",
    "    plt.show()\n",
    "\n",
    "\n",
    "def plot_and_save_scatter_with_condition(data, x_column, y_column, condition_column, condition_x, condition_y, subfolder_name):\n",
    "    # Create a figure and axis\n",
    "    fig, ax = plt.subplots()\n",
    "\n",
    "    # Separate the data based on the condition_column\n",
    "    data_x = data[data[condition_column] == condition_x]\n",
    "    data_y = data[data[condition_column] == condition_y]\n",
    "\n",
    "    # Get the counts of each unique pair of (x, y) coordinates for both conditions\n",
    "    counts_x = data_x.groupby([x_column, y_column]).size().reset_index(name='count')\n",
    "    counts_y = data_y.groupby([x_column, y_column]).size().reset_index(name='count')\n",
    "\n",
    "    # Merge counts back with the original data to match (x, y) coordinates\n",
    "    data_x = data_x.merge(counts_x, on=[x_column, y_column])\n",
    "    data_y = data_y.merge(counts_y, on=[x_column, y_column])\n",
    "\n",
    "    # Scatter plot for condition_x points with increased size for dots with multiple occurrences\n",
    "    ax.scatter(data_x[x_column], data_x[y_column], label=f'{condition_column} = {condition_x}', marker='o', s=data_x['count'] * 20)\n",
    "\n",
    "    # Scatter plot for condition_y points with increased size for dots with multiple occurrences\n",
    "    ax.scatter(data_y[x_column], data_y[y_column], label=f'{condition_column} = {condition_y}', marker='x', s=data_y['count'] * 20)\n",
    "\n",
    "    # Add labels and title\n",
    "    ax.set_xlabel(x_column)\n",
    "    ax.set_ylabel(y_column)\n",
    "    ax.set_title(f'Scatter Plot of {x_column} vs. {y_column}')\n",
    "\n",
    "    # Show the plot\n",
    "    ax.grid(True)\n",
    "    ax.legend()\n",
    "\n",
    "    # Create the subfolder if it doesn't exist\n",
    "    subfolder_path = os.path.join('Output', subfolder_name)\n",
    "    if not os.path.exists(subfolder_path):\n",
    "        os.mkdir(subfolder_path)\n",
    "\n",
    "    # Save the scatter plot in the subfolder\n",
    "    file_path = os.path.join(subfolder_path, f'scatter_plot_{x_column}_vs_{y_column}_with_condition.png')\n",
    "    plt.savefig(file_path)\n",
    "\n",
    "    # Display the plot (optional)\n",
    "    plt.show()\n",
    "\n",
    "\n",
    "# Call the functions to plot and save the desired graphs\n",
    "plot_and_save_cdf(data, ['mistakes_total'], 'mistakes_total')\n",
    "plot_and_save_boxplot(data, ['mistakes_total'], 'mistakes_total')\n",
    "plot_and_save_cdf(data, ['Trad_wtp_point','ES_wtp_point'], 'wtp_point')\n",
    "plot_and_save_boxplot(data, ['Trad_wtp_point','ES_wtp_point'], 'wtp_point')\n",
    "plot_and_save_cdf(data,['study_duration'], 'study_duration')\n",
    "plot_and_save_boxplot(data, ['study_duration'], 'study_duration')\n",
    "\n",
    "for el in ['low','middle','high']:\n",
    "    select_data = data[data['treatment']==el]\n",
    "    print('Treatment:', el)\n",
    "    plot_and_save_cdf(select_data, ['Trad_wtp_point','ES_wtp_point'], f'wtp_point_{el}')\n",
    "    plot_and_save_boxplot(select_data, ['Trad_wtp_point','ES_wtp_point'], f'wtp_point_{el}') \n",
    "    \n",
    "plot_and_save_cdf_by_treatment(data, ['ES_wtp_point'], 'treatment', 'ES_wtp_point_by_treatment')\n",
    "plot_and_save_cdf_by_treatment(data, ['Trad_wtp_point'], 'treatment', 'Trad_wtp_point_by_treatment')\n",
    "\n",
    "for el in ['warhol','arkansas','experience']:\n",
    "    plot_and_save_bar_chart(data, el, subfolder_name)\n",
    "\n",
    "for el in ['feedbackDifficulty', 'feedbackUnderstanding', 'feedbackSatisfied', 'feedbackPay']:\n",
    "    plot_and_save_bar_chart(data, el, subfolder_name)\n",
    "\n",
    "for question in ['mistakes_cq1', 'mistakes_cq2', 'mistakes_cq3', 'mistakes_cq4','mistakes_cq5', 'mistakes_cq6']:\n",
    "    # Call the function to plot and save the CDF for question\n",
    "    plot_and_save_cdf(data, [question], subfolder_name)\n",
    "\n",
    "    # Call the function to plot and save the boxplot for question\n",
    "    plot_and_save_boxplot(data, [question], subfolder_name)\n",
    "\n",
    "plot_and_save_scatter(data, 'Trad_wtp_point', 'ES_wtp_point', subfolder_name)\n",
    "plot_and_save_scatter_with_condition(data, 'Trad_wtp_point', 'ES_wtp_point', 'treatment', 'high', 'low', subfolder_name)\n",
    "\n",
    "\n",
    "# Select only the desired columns\n",
    "selected_columns = ['label'] + ['warhol','arkansas','experience'] + ['warholWhy','arkansasWhy','experienceWhy']\n",
    "selected_data = data[selected_columns]\n",
    "\n",
    "# Save the selected data to a CSV file in the 'subfolder'\n",
    "file_path = os.path.join(subfolder_path, 'open_ended.csv')\n",
    "selected_data.to_csv(file_path, index=False)\n",
    "\n",
    "# Select only the desired columns\n",
    "selected_columns = ['label'] +  ['feedback'] + ['feedbackDifficulty', 'feedbackUnderstanding', 'feedbackSatisfied', 'feedbackPay']\n",
    "selected_data = data[selected_columns]\n",
    "\n",
    "# Save the selected data to a CSV file in the 'subfolder'\n",
    "file_path = os.path.join(subfolder_path, 'feedback.csv')\n",
    "selected_data.to_csv(file_path, index=False)\n",
    "\n",
    "# Select only the desired columns\n",
    "cond1 = data['ES_wtp_point'] >= 0 \n",
    "cond2 = data['Trad_wtp_point'] > 0\n",
    "\n",
    "data['wtp_ratio'] = data['ES_wtp_point'] / data['Trad_wtp_point']\n",
    "\n",
    "data['Reasonable'] = cond1 & cond2\n",
    "\n",
    "data['study_duration_minutes'] = data['study_duration'] / 60\n",
    "data['study_duration_minutes'] = data['study_duration_minutes'].round(1)\n",
    "selected_columns = ['label'] + ['Trad_wtp3_bounds','ES_wtp3_bounds'] + ['Reasonable'] + ['treatment'] + ['mistakes_total']+ ['study_duration_minutes'] + ['MPLWhy']\n",
    "selected_data = data[selected_columns]\n",
    "\n",
    "# Save the selected data to a CSV file in the 'subfolder'\n",
    "file_path = os.path.join(subfolder_path, 'MPLWhy.csv')\n",
    "selected_data.to_csv(file_path, index=False)"
   ]
  },
  {
   "cell_type": "code",
   "execution_count": null,
   "metadata": {},
   "outputs": [],
   "source": [
    "\n",
    "\n"
   ]
  },
  {
   "cell_type": "code",
   "execution_count": 3,
   "metadata": {},
   "outputs": [
    {
     "ename": "KeyError",
     "evalue": "'ES_wtp_point'",
     "output_type": "error",
     "traceback": [
      "\u001b[0;31m---------------------------------------------------------------------------\u001b[0m",
      "\u001b[0;31mKeyError\u001b[0m                                  Traceback (most recent call last)",
      "File \u001b[0;32m~/Documents/venv/jupyter-venv/lib/python3.11/site-packages/pandas/core/indexes/base.py:3653\u001b[0m, in \u001b[0;36mIndex.get_loc\u001b[0;34m(self, key)\u001b[0m\n\u001b[1;32m   3652\u001b[0m \u001b[38;5;28;01mtry\u001b[39;00m:\n\u001b[0;32m-> 3653\u001b[0m     \u001b[38;5;28;01mreturn\u001b[39;00m \u001b[38;5;28;43mself\u001b[39;49m\u001b[38;5;241;43m.\u001b[39;49m\u001b[43m_engine\u001b[49m\u001b[38;5;241;43m.\u001b[39;49m\u001b[43mget_loc\u001b[49m\u001b[43m(\u001b[49m\u001b[43mcasted_key\u001b[49m\u001b[43m)\u001b[49m\n\u001b[1;32m   3654\u001b[0m \u001b[38;5;28;01mexcept\u001b[39;00m \u001b[38;5;167;01mKeyError\u001b[39;00m \u001b[38;5;28;01mas\u001b[39;00m err:\n",
      "File \u001b[0;32m~/Documents/venv/jupyter-venv/lib/python3.11/site-packages/pandas/_libs/index.pyx:147\u001b[0m, in \u001b[0;36mpandas._libs.index.IndexEngine.get_loc\u001b[0;34m()\u001b[0m\n",
      "File \u001b[0;32m~/Documents/venv/jupyter-venv/lib/python3.11/site-packages/pandas/_libs/index.pyx:176\u001b[0m, in \u001b[0;36mpandas._libs.index.IndexEngine.get_loc\u001b[0;34m()\u001b[0m\n",
      "File \u001b[0;32mpandas/_libs/hashtable_class_helper.pxi:7080\u001b[0m, in \u001b[0;36mpandas._libs.hashtable.PyObjectHashTable.get_item\u001b[0;34m()\u001b[0m\n",
      "File \u001b[0;32mpandas/_libs/hashtable_class_helper.pxi:7088\u001b[0m, in \u001b[0;36mpandas._libs.hashtable.PyObjectHashTable.get_item\u001b[0;34m()\u001b[0m\n",
      "\u001b[0;31mKeyError\u001b[0m: 'ES_wtp_point'",
      "\nThe above exception was the direct cause of the following exception:\n",
      "\u001b[0;31mKeyError\u001b[0m                                  Traceback (most recent call last)",
      "Cell \u001b[0;32mIn[3], line 48\u001b[0m\n\u001b[1;32m     44\u001b[0m     \u001b[38;5;28mprint\u001b[39m(myNumber)\n\u001b[1;32m     45\u001b[0m     \u001b[38;5;28;01mreturn\u001b[39;00m data, output \n\u001b[0;32m---> 48\u001b[0m data, _ \u001b[38;5;241m=\u001b[39m \u001b[43mcalculate_wtp_metrics\u001b[49m\u001b[43m(\u001b[49m\u001b[43mdata\u001b[49m\u001b[43m)\u001b[49m\n",
      "Cell \u001b[0;32mIn[3], line 4\u001b[0m, in \u001b[0;36mcalculate_wtp_metrics\u001b[0;34m(data)\u001b[0m\n\u001b[1;32m      2\u001b[0m output \u001b[38;5;241m=\u001b[39m {}\n\u001b[1;32m      3\u001b[0m \u001b[38;5;28;01mfor\u001b[39;00m wtp_type \u001b[38;5;129;01min\u001b[39;00m [\u001b[38;5;124m'\u001b[39m\u001b[38;5;124mES\u001b[39m\u001b[38;5;124m'\u001b[39m, \u001b[38;5;124m'\u001b[39m\u001b[38;5;124mTrad\u001b[39m\u001b[38;5;124m'\u001b[39m]:\n\u001b[0;32m----> 4\u001b[0m     cond1 \u001b[38;5;241m=\u001b[39m \u001b[43mdata\u001b[49m\u001b[43m[\u001b[49m\u001b[38;5;124;43mf\u001b[39;49m\u001b[38;5;124;43m'\u001b[39;49m\u001b[38;5;132;43;01m{\u001b[39;49;00m\u001b[43mwtp_type\u001b[49m\u001b[38;5;132;43;01m}\u001b[39;49;00m\u001b[38;5;124;43m_wtp_point\u001b[39;49m\u001b[38;5;124;43m'\u001b[39;49m\u001b[43m]\u001b[49m \u001b[38;5;241m<\u001b[39m\u001b[38;5;241m=\u001b[39m \u001b[38;5;241m0.5\u001b[39m\n\u001b[1;32m      5\u001b[0m     cond2 \u001b[38;5;241m=\u001b[39m data[\u001b[38;5;124mf\u001b[39m\u001b[38;5;124m'\u001b[39m\u001b[38;5;132;01m{\u001b[39;00mwtp_type\u001b[38;5;132;01m}\u001b[39;00m\u001b[38;5;124m_wtp_point\u001b[39m\u001b[38;5;124m'\u001b[39m] \u001b[38;5;241m>\u001b[39m\u001b[38;5;241m=\u001b[39m \u001b[38;5;241m-\u001b[39m\u001b[38;5;241m0.5\u001b[39m\n\u001b[1;32m      7\u001b[0m     data[\u001b[38;5;124mf\u001b[39m\u001b[38;5;124m'\u001b[39m\u001b[38;5;132;01m{\u001b[39;00mwtp_type\u001b[38;5;132;01m}\u001b[39;00m\u001b[38;5;124m_wtp_zero\u001b[39m\u001b[38;5;124m'\u001b[39m] \u001b[38;5;241m=\u001b[39m cond1 \u001b[38;5;241m&\u001b[39m cond2\n",
      "File \u001b[0;32m~/Documents/venv/jupyter-venv/lib/python3.11/site-packages/pandas/core/frame.py:3761\u001b[0m, in \u001b[0;36mDataFrame.__getitem__\u001b[0;34m(self, key)\u001b[0m\n\u001b[1;32m   3759\u001b[0m \u001b[38;5;28;01mif\u001b[39;00m \u001b[38;5;28mself\u001b[39m\u001b[38;5;241m.\u001b[39mcolumns\u001b[38;5;241m.\u001b[39mnlevels \u001b[38;5;241m>\u001b[39m \u001b[38;5;241m1\u001b[39m:\n\u001b[1;32m   3760\u001b[0m     \u001b[38;5;28;01mreturn\u001b[39;00m \u001b[38;5;28mself\u001b[39m\u001b[38;5;241m.\u001b[39m_getitem_multilevel(key)\n\u001b[0;32m-> 3761\u001b[0m indexer \u001b[38;5;241m=\u001b[39m \u001b[38;5;28;43mself\u001b[39;49m\u001b[38;5;241;43m.\u001b[39;49m\u001b[43mcolumns\u001b[49m\u001b[38;5;241;43m.\u001b[39;49m\u001b[43mget_loc\u001b[49m\u001b[43m(\u001b[49m\u001b[43mkey\u001b[49m\u001b[43m)\u001b[49m\n\u001b[1;32m   3762\u001b[0m \u001b[38;5;28;01mif\u001b[39;00m is_integer(indexer):\n\u001b[1;32m   3763\u001b[0m     indexer \u001b[38;5;241m=\u001b[39m [indexer]\n",
      "File \u001b[0;32m~/Documents/venv/jupyter-venv/lib/python3.11/site-packages/pandas/core/indexes/base.py:3655\u001b[0m, in \u001b[0;36mIndex.get_loc\u001b[0;34m(self, key)\u001b[0m\n\u001b[1;32m   3653\u001b[0m     \u001b[38;5;28;01mreturn\u001b[39;00m \u001b[38;5;28mself\u001b[39m\u001b[38;5;241m.\u001b[39m_engine\u001b[38;5;241m.\u001b[39mget_loc(casted_key)\n\u001b[1;32m   3654\u001b[0m \u001b[38;5;28;01mexcept\u001b[39;00m \u001b[38;5;167;01mKeyError\u001b[39;00m \u001b[38;5;28;01mas\u001b[39;00m err:\n\u001b[0;32m-> 3655\u001b[0m     \u001b[38;5;28;01mraise\u001b[39;00m \u001b[38;5;167;01mKeyError\u001b[39;00m(key) \u001b[38;5;28;01mfrom\u001b[39;00m \u001b[38;5;21;01merr\u001b[39;00m\n\u001b[1;32m   3656\u001b[0m \u001b[38;5;28;01mexcept\u001b[39;00m \u001b[38;5;167;01mTypeError\u001b[39;00m:\n\u001b[1;32m   3657\u001b[0m     \u001b[38;5;66;03m# If we have a listlike key, _check_indexing_error will raise\u001b[39;00m\n\u001b[1;32m   3658\u001b[0m     \u001b[38;5;66;03m#  InvalidIndexError. Otherwise we fall through and re-raise\u001b[39;00m\n\u001b[1;32m   3659\u001b[0m     \u001b[38;5;66;03m#  the TypeError.\u001b[39;00m\n\u001b[1;32m   3660\u001b[0m     \u001b[38;5;28mself\u001b[39m\u001b[38;5;241m.\u001b[39m_check_indexing_error(key)\n",
      "\u001b[0;31mKeyError\u001b[0m: 'ES_wtp_point'"
     ]
    }
   ],
   "source": [
    "\n",
    "def calculate_wtp_metrics(data):\n",
    "    output = {}\n",
    "    for wtp_type in ['ES', 'Trad']:\n",
    "        cond1 = data[f'{wtp_type}_wtp_point'] <= 0.5\n",
    "        cond2 = data[f'{wtp_type}_wtp_point'] >= -0.5\n",
    "\n",
    "        data[f'{wtp_type}_wtp_zero'] = cond1 & cond2\n",
    "\n",
    "        cond1 = data[f'{wtp_type}_wtp_point'] > 0.5\n",
    "        data[f'{wtp_type}_wtp_strict_pos'] = cond1\n",
    "\n",
    "        cond1 = data[f'{wtp_type}_wtp_point'] < -0.5\n",
    "        data[f'{wtp_type}_wtp_strict_neg'] = cond1\n",
    "\n",
    "    data['ES_less_than_Trad_and_pos'] = (data['Trad_wtp_point'] > data['ES_wtp_point']) & (data['ES_wtp_point'] > 0)\n",
    "    data['ES_less_than_Trad_and_neg'] = (data['Trad_wtp_point'] > data['ES_wtp_point']) & (data['ES_wtp_point'] < 0)\n",
    "    data['ES_equal_0'] = data['ES_wtp_point'] == 0\n",
    "    data['ES_equal_Trad'] = data['Trad_wtp_point'] == data['ES_wtp_point']\n",
    "    data['ES_greater_than_Trad'] = data['Trad_wtp_point'] < data['ES_wtp_point']\n",
    "\n",
    "    myNumber = 0\n",
    "    for WTP_type in ['strict_neg', 'zero']:\n",
    "        for ES_type in ['strict_neg', 'zero', 'strict_pos']:\n",
    "\n",
    "            data['Trad_wtp_' + WTP_type +'_ES_wtp_'+ES_type] = data[f'Trad_wtp_{WTP_type}'] & data[f'ES_wtp_{ES_type}']\n",
    "            x = round(100* (sum(data['Trad_wtp_' + WTP_type +'_ES_wtp_'+ES_type])/len(data)) ,2)\n",
    "            # x = round(100 * sum(data[f'Trad_wtp_{WTP_type}'] & data[f'ES_wtp_{ES_type}']) / len(data), 2)\n",
    "            myNumber += x\n",
    "            print(f'WTP {WTP_type} and ES {ES_type}: ', x)\n",
    "            output[f'WTP {WTP_type} and ES {ES_type}'] = x\n",
    "    partial = 0\n",
    "    \n",
    "    for ES_type in ['less_than_Trad_and_pos', 'less_than_Trad_and_neg', 'equal_0', 'equal_Trad', 'greater_than_Trad']:\n",
    "        data['Trad_wtp_strict_pos_ES_wtp_'+ES_type] = data[f'Trad_wtp_strict_pos'] & data[f'ES_{ES_type}']\n",
    "\n",
    "        x = round(100* (sum(data['Trad_wtp_strict_pos_ES_wtp_'+ES_type])/len(data)) ,2)\n",
    "\n",
    "        # x = round(100 * sum(data[f'Trad_wtp_strict_pos'] & data[f'ES_{ES_type}']) / len(data), 2)\n",
    "        print(f'WTP strict_pos and ES {ES_type}: ', x)\n",
    "        myNumber += x\n",
    "        partial += x\n",
    "        output[f'WTP strict_pos and ES {ES_type}'] = x\n",
    "    print('WTP strict_pos = ', partial)\n",
    "    print(myNumber)\n",
    "    return data, output \n",
    "\n",
    "\n",
    "data, _ = calculate_wtp_metrics(data)\n",
    "\n",
    "\n"
   ]
  },
  {
   "cell_type": "code",
   "execution_count": null,
   "metadata": {},
   "outputs": [
    {
     "name": "stdout",
     "output_type": "stream",
     "text": [
      "middle\n",
      "493\n"
     ]
    },
    {
     "ename": "NameError",
     "evalue": "name 'calculate_wtp_metrics' is not defined",
     "output_type": "error",
     "traceback": [
      "\u001b[0;31m---------------------------------------------------------------------------\u001b[0m",
      "\u001b[0;31mNameError\u001b[0m                                 Traceback (most recent call last)",
      "Cell \u001b[0;32mIn[3], line 4\u001b[0m\n\u001b[1;32m      2\u001b[0m \u001b[38;5;28mprint\u001b[39m(treatment)\n\u001b[1;32m      3\u001b[0m \u001b[38;5;28mprint\u001b[39m(\u001b[38;5;28mlen\u001b[39m(data[data[\u001b[38;5;124m'\u001b[39m\u001b[38;5;124mtreatment\u001b[39m\u001b[38;5;124m'\u001b[39m]\u001b[38;5;241m==\u001b[39mtreatment]))\n\u001b[0;32m----> 4\u001b[0m \u001b[43mcalculate_wtp_metrics\u001b[49m(data[data[\u001b[38;5;124m'\u001b[39m\u001b[38;5;124mtreatment\u001b[39m\u001b[38;5;124m'\u001b[39m]\u001b[38;5;241m==\u001b[39mtreatment])\n\u001b[1;32m      5\u001b[0m \u001b[38;5;28mprint\u001b[39m()\n",
      "\u001b[0;31mNameError\u001b[0m: name 'calculate_wtp_metrics' is not defined"
     ]
    }
   ],
   "source": [
    "\n"
   ]
  },
  {
   "cell_type": "code",
   "execution_count": null,
   "metadata": {},
   "outputs": [
    {
     "ename": "NameError",
     "evalue": "name 'calculate_wtp_metrics' is not defined",
     "output_type": "error",
     "traceback": [
      "\u001b[0;31m---------------------------------------------------------------------------\u001b[0m",
      "\u001b[0;31mNameError\u001b[0m                                 Traceback (most recent call last)",
      "Cell \u001b[0;32mIn[1], line 2\u001b[0m\n\u001b[1;32m      1\u001b[0m \u001b[38;5;28;01mfor\u001b[39;00m treatment \u001b[38;5;129;01min\u001b[39;00m [\u001b[38;5;124m'\u001b[39m\u001b[38;5;124mmiddle\u001b[39m\u001b[38;5;124m'\u001b[39m,\u001b[38;5;124m'\u001b[39m\u001b[38;5;124mhigh\u001b[39m\u001b[38;5;124m'\u001b[39m,\u001b[38;5;124m'\u001b[39m\u001b[38;5;124mlow\u001b[39m\u001b[38;5;124m'\u001b[39m]:\n\u001b[0;32m----> 2\u001b[0m     _, output \u001b[38;5;241m=\u001b[39m \u001b[43mcalculate_wtp_metrics\u001b[49m(data[data[\u001b[38;5;124m'\u001b[39m\u001b[38;5;124mtreatment\u001b[39m\u001b[38;5;124m'\u001b[39m]\u001b[38;5;241m==\u001b[39mtreatment]) \n\u001b[1;32m      4\u001b[0m     x \u001b[38;5;241m=\u001b[39m \u001b[38;5;241m0\u001b[39m\n\u001b[1;32m      5\u001b[0m     normalized_output \u001b[38;5;241m=\u001b[39m {}\n",
      "\u001b[0;31mNameError\u001b[0m: name 'calculate_wtp_metrics' is not defined"
     ]
    }
   ],
   "source": [
    "for treatment in ['middle','high','low']:\n",
    "    _, output = calculate_wtp_metrics(data[data['treatment']==treatment]) \n",
    "\n",
    "    x = 0\n",
    "    normalized_output = {}\n",
    "    for ES_type in ['less_than_Trad_and_neg', 'equal_0', 'less_than_Trad_and_pos','equal_Trad', 'greater_than_Trad']:\n",
    "        \n",
    "        normalized_output[f'WTP strict_pos and ES {ES_type}'] = output[f'WTP strict_pos and ES {ES_type}'] \n",
    "        x+= output[f'WTP strict_pos and ES {ES_type}'] \n",
    "    normalized_output = {k: round(100*v / x,2) for k, v in normalized_output.items()}\n",
    "\n",
    "    print(treatment,normalized_output)\n",
    "\n",
    "\n"
   ]
  },
  {
   "cell_type": "code",
   "execution_count": null,
   "metadata": {},
   "outputs": [],
   "source": [
    "from matplotlib.lines import Line2D\n",
    "\n",
    "cutoffs = [1/3,2/3,1]\n",
    "\n",
    "start =0\n",
    "end = 1\n",
    "number = 100\n",
    "cutoffs = np.linspace(start,end,number)\n",
    "ES_types = ['less_than_Trad_and_neg','equal_0','less_than_Trad_and_pos',  'equal_Trad', 'greater_than_Trad']\n",
    "\n",
    "labels_unincentivized = {\n",
    "    'warhol': [('No', 'No (Beliefs)'), ('Yes', 'Yes (Reality)')],\n",
    "    'arkansas': [('Worse off', 'Worse off (Beliefs)'), ('Better off', 'Better off (Reality)')],\n",
    "    'experience': [('Yes', 'Yes (Beliefs)'), ('No', 'No (Reality)')],\n",
    "}\n",
    "\n",
    "\n",
    "# Function to determine the new column values\n",
    "def determine_category(row):\n",
    "    if all([row['warhol']=='No',row['arkansas']=='Worse off',row['experience']=='Yes']): \n",
    "        return 'MS'\n",
    "    elif all([row['warhol']=='Yes',row['arkansas']=='Better off',row['experience']=='No']):\n",
    "        return 'ES'\n",
    "    else:\n",
    "        return None  \n",
    "    \n",
    "# Apply the function to create the new column\n",
    "data['all_questions'] = data.apply(determine_category, axis=1)\n",
    "\n",
    "labels_unincentivized['all_questions'] = [('MS', 'MS'), ('ES', 'ES')]\n"
   ]
  },
  {
   "cell_type": "code",
   "execution_count": null,
   "metadata": {},
   "outputs": [
    {
     "name": "stdout",
     "output_type": "stream",
     "text": [
      "0.3802612481857765 equal\n",
      "0.06966618287373004\n",
      "0.47410358565737054 equal\n",
      "0.08565737051792828\n"
     ]
    },
    {
     "data": {
      "image/png": "[encoded data removed]",
      "text/plain": [
       "<Figure size 300x200 with 1 Axes>"
      ]
     },
     "metadata": {},
     "output_type": "display_data"
    },
    {
     "name": "stdout",
     "output_type": "stream",
     "text": [
      "0.42686170212765956 equal\n",
      "0.07579787234042554\n",
      "0.40774487471526194 equal\n",
      "0.0774487471526196\n"
     ]
    },
    {
     "data": {
      "image/png": "[encoded data removed]",
      "text/plain": [
       "<Figure size 300x200 with 1 Axes>"
      ]
     },
     "metadata": {},
     "output_type": "display_data"
    },
    {
     "name": "stdout",
     "output_type": "stream",
     "text": [
      "0.40066225165562913 equal\n",
      "0.0728476821192053\n",
      "0.4395229982964225 equal\n",
      "0.08006814310051108\n"
     ]
    },
    {
     "data": {
      "image/png": "[encoded data removed]",
      "text/plain": [
       "<Figure size 300x200 with 1 Axes>"
      ]
     },
     "metadata": {},
     "output_type": "display_data"
    },
    {
     "name": "stdout",
     "output_type": "stream",
     "text": [
      "0.39035087719298245 equal\n",
      "0.039473684210526314\n",
      "0.47126436781609193 equal\n",
      "0.05747126436781609\n"
     ]
    },
    {
     "data": {
      "image/png": "[encoded data removed]",
      "text/plain": [
       "<Figure size 300x200 with 1 Axes>"
      ]
     },
     "metadata": {},
     "output_type": "display_data"
    },
    {
     "name": "stdout",
     "output_type": "stream",
     "text": [
      "0.39035087719298245 equal\n",
      "0.039473684210526314\n",
      "0.47126436781609193 equal\n",
      "0.05747126436781609\n"
     ]
    },
    {
     "data": {
      "image/png": "[encoded data removed]",
      "text/plain": [
       "<Figure size 300x200 with 1 Axes>"
      ]
     },
     "metadata": {},
     "output_type": "display_data"
    },
    {
     "name": "stdout",
     "output_type": "stream",
     "text": [
      "0.39035087719298245 equal\n",
      "0.039473684210526314\n",
      "0.47126436781609193 equal\n",
      "0.05747126436781609\n"
     ]
    },
    {
     "data": {
      "image/png": "[encoded data removed]",
      "text/plain": [
       "<Figure size 300x200 with 1 Axes>"
      ]
     },
     "metadata": {},
     "output_type": "display_data"
    },
    {
     "data": {
      "text/plain": [
       "((-1.0, 2.0), (0.0, 1.0000000000000002))"
      ]
     },
     "execution_count": 215,
     "metadata": {},
     "output_type": "execute_result"
    }
   ],
   "source": [
    "\n",
    "def plot_and_save_cdf_by_unincentivized_answer(data, question, filename):\n",
    "\n",
    "    # Get unique treatment values\n",
    "    answers = labels_unincentivized[question]\n",
    "    \n",
    "\n",
    "    # Create a figure and axis\n",
    "    fig, ax = plt.subplots(figsize=(4,3))\n",
    "    \n",
    "    j = False \n",
    "    for answer in answers:\n",
    "\n",
    "        treatment_data = data[data[question] == answer[0]]\n",
    "\n",
    "\n",
    "        myList = [0]\n",
    "        # myList = []\n",
    "\n",
    "        for ES_type in ES_types:\n",
    "            if ES_type == 'less_than_Trad_and_pos':\n",
    "                y = 0\n",
    "                for cutoff in cutoffs:\n",
    "                    cond1 =  treatment_data['wtp_ratio'] < cutoff\n",
    "                    cond2 = treatment_data['wtp_ratio'] >= y \n",
    "                    x = sum(treatment_data['Trad_wtp_strict_pos_ES_wtp_less_than_Trad_and_pos'] & cond1 & cond2)/len(treatment_data)\n",
    "                    y = cutoff\n",
    "                    myList.append(x)\n",
    "            else:\n",
    "                name = 'Trad_wtp_strict_pos_ES_wtp_'+ES_type\n",
    "\n",
    "                x = sum(treatment_data[name])/len(treatment_data)  \n",
    " \n",
    "                myList.append(x)\n",
    "                if ES_type == 'equal_Trad': print(x,'equal')\n",
    "                if ES_type == 'greater_than_Trad': print(x)\n",
    "\n",
    "        if j:\n",
    "            linestyle = '-'\n",
    "            linewidth = 2\n",
    "        else:\n",
    "            linestyle = '--'\n",
    "            linewidth = 2 \n",
    "            j=True\n",
    "        color='black'\n",
    "        cumulative_sum = np.cumsum(myList)\n",
    "        # print(cumulative_sum,cumulative_sum[-1])\n",
    "        # cumulative_sum = np.append(cumulative_sum, cumulative_sum[-1])\n",
    "  \n",
    "        # print(cumulative_sum)\n",
    "        label=answer[1]\n",
    "\n",
    "\n",
    "        myArray = np.concatenate([np.array([-1,-.5,0]), np.linspace(start, end, number-1), np.array([1,1.5,2])])\n",
    "    \n",
    "\n",
    "\n",
    "\n",
    "        ax.step(myArray, cumulative_sum, where='pre', label=label, linestyle=linestyle, linewidth=linewidth,color=color)\n",
    "\n",
    "    \n",
    "\n",
    "        # ax.set_xlim(-1.5, 1.5)\n",
    "    # Set title based on WTP_type\n",
    "    # if WTP_type == 'ES':\n",
    "    #     ax.set_title('ES CDF by treatment')\n",
    "    # elif WTP_type == 'Trad':\n",
    "    #     ax.set_title('WTP CDF by treatment')\n",
    "\n",
    "    # ax.set_title(f'WTP-ratio CDF by {question}')\n",
    "\n",
    "    # Add labels and legend\n",
    "    xtick_positions = [-.75,-.25,0,.5,1,1.25,1.75]\n",
    "\n",
    "    ax.set_xticks(xtick_positions)\n",
    "    labels = [r'$<0$', r'$=0$', '0','between','1',r'$=1$', r'$>1$']\n",
    "    # ax.tick_params(axis=u'both', which=u'both',l)\n",
    "\n",
    "    for i in range(len(xtick_positions)):\n",
    "        if i not in [2,4]:\n",
    "            ax.xaxis.get_major_ticks()[i].tick1line.set_markersize(0)   \n",
    "    # ax.xaxis.get_major_ticks()[2].tick1line.set_markersize(3)\n",
    "    # ax.xaxis.get_major_ticks()[4].tick1line.set_markersize(3)\n",
    "    ax.set_xticklabels(labels)\n",
    "\n",
    "   \n",
    "\n",
    "    ax.set_xlabel(r'$\\frac{W_{NL}}{W_L}$')\n",
    "    # legend_elements = [\n",
    "    #                Line2D([0], [0], color='black', ls='--',lw=2, label=r'Beliefs'),\n",
    "    #                Line2D([0], [0], color='black', ls='-',lw=2, label=r'Reality')]\n",
    "\n",
    "    # ax.legend(handles=legend_elements, loc='upper left')\n",
    "    ax.legend()\n",
    "    ax.margins(x=0,y=0)\n",
    "    fig.set_size_inches(w=3, h=2)\n",
    "    plt.tight_layout()\n",
    "    \n",
    "    # Save the current xlim and ylim\n",
    "    xlim = ax.get_xlim()\n",
    "    ylim = ax.get_ylim()\n",
    "\n",
    "    # Save the figure in the subfolder\n",
    "    file_path = os.path.join(subfolder_path, f'{filename}.pdf')\n",
    "    plt.savefig(file_path)\n",
    "\n",
    "\n",
    "    # Display the plot (optional)\n",
    "    plt.show()\n",
    "\n",
    "    return xlim, ylim\n",
    "\n",
    "\n",
    "cond1 = data['Trad_wtp_point'] >.5\n",
    "# codn2 = data['treatment']=='middle'\n",
    "for question in labels_unincentivized.keys():\n",
    "    plot_and_save_cdf_by_unincentivized_answer(data[cond1 & cond2], question, f'wtp-ratio_cdf_{question}')\n",
    "\n",
    "\n",
    "question = 'all_questions'\n",
    "xlim, ylim = plot_and_save_cdf_by_unincentivized_answer(data[cond1 & cond2], question, f'wtp-ratio_cdf_{question}_slides_full')\n",
    "\n",
    "\n",
    "\n",
    "\n",
    "def plot_and_save_cdf_by_unincentivized_answer_blank(data, question, filename,xlim=None, ylim=None):\n",
    "\n",
    "\n",
    "\n",
    "\n",
    "    \n",
    "\n",
    "    # Get unique treatment values\n",
    "    answers = labels_unincentivized[question]\n",
    "    \n",
    "\n",
    "    # Create a figure and axis\n",
    "    fig, ax = plt.subplots(figsize=(4,3))\n",
    "    \n",
    "    j = False \n",
    "    for answer in answers:\n",
    "\n",
    "        treatment_data = data[data[question] == answer[0]]\n",
    "\n",
    "\n",
    "        myList = [0]\n",
    "        # myList = []\n",
    "\n",
    "        for ES_type in ES_types:\n",
    "            if ES_type == 'less_than_Trad_and_pos':\n",
    "                y = 0\n",
    "                for cutoff in cutoffs:\n",
    "                    cond1 =  treatment_data['wtp_ratio'] < cutoff\n",
    "                    cond2 = treatment_data['wtp_ratio'] >= y \n",
    "                    x = sum(treatment_data['Trad_wtp_strict_pos_ES_wtp_less_than_Trad_and_pos'] & cond1 & cond2)/len(treatment_data)\n",
    "                    y = cutoff\n",
    "                    myList.append(x)\n",
    "            else:\n",
    "                name = 'Trad_wtp_strict_pos_ES_wtp_'+ES_type\n",
    "\n",
    "                x = sum(treatment_data[name])/len(treatment_data)  \n",
    " \n",
    "                myList.append(x)\n",
    "                if ES_type == 'equal_Trad': print(x,'equal')\n",
    "                if ES_type == 'greater_than_Trad': print(x)\n",
    "\n",
    "        if j:\n",
    "            linestyle = '-'\n",
    "            linewidth = 2\n",
    "        else:\n",
    "            linestyle = '--'\n",
    "            linewidth = 2 \n",
    "            j=True\n",
    "        color='black'\n",
    "        cumulative_sum = np.cumsum(myList)\n",
    "        # print(cumulative_sum,cumulative_sum[-1])\n",
    "        # cumulative_sum = np.append(cumulative_sum, cumulative_sum[-1])\n",
    "  \n",
    "        # print(cumulative_sum)\n",
    "        label=answer[1]\n",
    "\n",
    "\n",
    "        myArray = np.concatenate([np.array([-1,-.5,0]), np.linspace(start, end, number-1), np.array([1,1.5,2])])\n",
    "    \n",
    "\n",
    "\n",
    "\n",
    "        # ax.step(myArray, cumulative_sum, where='pre', label=label, linestyle=linestyle, linewidth=linewidth,color=color)\n",
    "\n",
    "    \n",
    "\n",
    "        # ax.set_xlim(-1.5, 1.5)\n",
    "    # Set title based on WTP_type\n",
    "    # if WTP_type == 'ES':\n",
    "    #     ax.set_title('ES CDF by treatment')\n",
    "    # elif WTP_type == 'Trad':\n",
    "    #     ax.set_title('WTP CDF by treatment')\n",
    "\n",
    "    # ax.set_title(f'WTP-ratio CDF by {question}')\n",
    "\n",
    "    # Add labels and legend\n",
    "    xtick_positions = [-.75,-.25,0,.5,1,1.25,1.75]\n",
    "\n",
    "    ax.set_xticks(xtick_positions)\n",
    "    labels = [r'$<0$', r'$=0$', '0','between','1',r'$=1$', r'$>1$']\n",
    "    # ax.tick_params(axis=u'both', which=u'both',l)\n",
    "\n",
    "    for i in range(len(xtick_positions)):\n",
    "        if i not in [2,4]:\n",
    "            ax.xaxis.get_major_ticks()[i].tick1line.set_markersize(0)   \n",
    "    # ax.xaxis.get_major_ticks()[2].tick1line.set_markersize(3)\n",
    "    # ax.xaxis.get_major_ticks()[4].tick1line.set_markersize(3)\n",
    "    ax.set_xticklabels(labels)\n",
    "\n",
    "   \n",
    "\n",
    "    ax.set_xlabel(r'$\\frac{W_{NL}}{W_L}$')\n",
    "\n",
    "    if xlim is not None:\n",
    "        ax.set_xlim(xlim)\n",
    "    if ylim is not None:\n",
    "        ax.set_ylim(ylim)\n",
    "\n",
    "    # Create a legend\n",
    "        \n",
    "    legend_elements = [\n",
    "                   Line2D([0], [0], color='black', ls='--',lw=2, label=r'No (Beliefs)'),\n",
    "                   Line2D([0], [0], color='black', ls='-',lw=2, label=r'Yes (Reality)')]\n",
    "\n",
    "    ax.legend(handles=legend_elements, loc='upper left')\n",
    "\n",
    "    # ax.legend()\n",
    "\n",
    "    ax.margins(x=0,y=0)\n",
    "    fig.set_size_inches(w=3, h=2)\n",
    "    plt.tight_layout()\n",
    "    \n",
    "    # Save the current xlim and ylim\n",
    "    xlim = ax.get_xlim()\n",
    "    ylim = ax.get_ylim()\n",
    "\n",
    "    # Save the figure in the subfolder\n",
    "    file_path = os.path.join(subfolder_path, f'{filename}.pdf')\n",
    "    plt.savefig(file_path)\n",
    "\n",
    "\n",
    "    # Display the plot (optional)\n",
    "    plt.show()\n",
    "\n",
    "    return xlim, ylim\n",
    "\n",
    "\n",
    "\n",
    "  # Set x and y limits if provided\n",
    "\n",
    "\n",
    "plot_and_save_cdf_by_unincentivized_answer_blank(data[cond1 & cond2], question, f'wtp-ratio_cdf_{question}_slides_blank',xlim=xlim, ylim=ylim)"
   ]
  },
  {
   "cell_type": "code",
   "execution_count": null,
   "metadata": {},
   "outputs": [
    {
     "name": "stdout",
     "output_type": "stream",
     "text": [
      "num MS:  276 num ES:  114\n",
      "1478\n"
     ]
    }
   ],
   "source": [
    "print('num MS: ', sum(data['all_questions']=='MS') , 'num ES: ',sum(data['all_questions']=='ES'))\n",
    "print(len(data))\n"
   ]
  },
  {
   "cell_type": "code",
   "execution_count": null,
   "metadata": {},
   "outputs": [
    {
     "name": "stdout",
     "output_type": "stream",
     "text": [
      "77 36 402\n"
     ]
    }
   ],
   "source": [
    "data_baseline = data[data['treatment']=='middle']\n",
    "data_baseline = data_baseline[data_baseline['Trad_wtp_point']>.5]\n",
    "print(sum(data_baseline['all_questions']=='MS'),sum(data_baseline['all_questions']=='ES'),len(data_baseline))\n",
    "\n",
    "\n",
    "\n",
    "# for type in ['Trad_wtp_strict_pos_ES_wtp_equal_0','Trad_wtp_strict_pos_ES_wtp_less_than_Trad_and_pos','Trad_wtp_strict_pos_ES_wtp_equal_Trad']:\n",
    "#     pureMS = data[data[type]]\n",
    "\n",
    "#     # grouped = pureMS.groupby('treatment')\n",
    "\n",
    "#     group_A = pureMS[pureMS['all_questions'] == 'MS']['Trad_wtp_point']\n",
    "#     group_B = pureMS[pureMS['all_questions'] == 'ES']['Trad_wtp_point']\n",
    "\n",
    "#     # Perform a two-sample t-test\n",
    "#     t_stat, p_value = stats.ttest_ind(group_A, group_B)\n",
    "\n",
    "#     print(type)\n",
    "#     print(f'Two-Sample T-Test:')\n",
    "#     print(f'T-Statistic: {t_stat}')\n",
    "#     print(f'P-Value: {p_value}')\n",
    "#     print()\n",
    "\n",
    "\n",
    "\n"
   ]
  },
  {
   "cell_type": "code",
   "execution_count": null,
   "metadata": {},
   "outputs": [
    {
     "data": {
      "text/plain": [
       "72"
      ]
     },
     "execution_count": 218,
     "metadata": {},
     "output_type": "execute_result"
    }
   ],
   "source": [
    "# sum(data['Trad_wtp_strict_pos_ES_wtp_less_than_Trad'])/len(data)\n",
    "\n",
    "# test_data = data[data['treatment']=='middle']\n",
    "\n",
    "# sum(test_data['Trad_wtp_strict_pos_ES_wtp_less_than_Trad'])/len(test_data)\n",
    "\n",
    "\n",
    "# test_data['Trad_wtp_strict_pos_ES_wtp_'+'less_than_Trad']\n",
    "\n",
    "sum(data['Trad_wtp_strict_pos_ES_wtp_less_than_Trad_and_neg'])"
   ]
  },
  {
   "cell_type": "code",
   "execution_count": null,
   "metadata": {},
   "outputs": [
    {
     "name": "stdout",
     "output_type": "stream",
     "text": [
      "WTP strict_neg and ES strict_neg:  0.16\n",
      "WTP strict_neg and ES zero:  0.0\n",
      "WTP strict_neg and ES strict_pos:  0.62\n",
      "WTP zero and ES strict_neg:  0.93\n",
      "WTP zero and ES zero:  17.13\n",
      "WTP zero and ES strict_pos:  2.96\n",
      "WTP strict_pos and ES less_than_Trad_and_pos:  21.18\n",
      "WTP strict_pos and ES less_than_Trad_and_neg:  6.54\n",
      "WTP strict_pos and ES equal_0:  6.7\n",
      "WTP strict_pos and ES equal_Trad:  37.07\n",
      "WTP strict_pos and ES greater_than_Trad:  6.7\n",
      "WTP strict_pos =  78.19000000000001\n",
      "99.99000000000001\n",
      "WTP strict_neg and ES strict_neg:  0.6\n",
      "WTP strict_neg and ES zero:  0.12\n",
      "WTP strict_neg and ES strict_pos:  0.48\n",
      "WTP zero and ES strict_neg:  0.12\n",
      "WTP zero and ES zero:  13.4\n",
      "WTP zero and ES strict_pos:  2.87\n",
      "WTP strict_pos and ES less_than_Trad_and_pos:  31.46\n",
      "WTP strict_pos and ES less_than_Trad_and_neg:  3.59\n",
      "WTP strict_pos and ES equal_0:  10.29\n",
      "WTP strict_pos and ES equal_Trad:  31.34\n",
      "WTP strict_pos and ES greater_than_Trad:  5.74\n",
      "WTP strict_pos =  82.41999999999999\n",
      "100.00999999999999\n",
      "WTP strict_neg and ES strict_neg:  0.18\n",
      "WTP strict_neg and ES zero:  0.0\n",
      "WTP strict_neg and ES strict_pos:  0.73\n",
      "WTP zero and ES strict_neg:  0.73\n",
      "WTP zero and ES zero:  14.99\n",
      "WTP zero and ES strict_pos:  3.11\n",
      "WTP strict_pos and ES less_than_Trad_and_pos:  26.33\n",
      "WTP strict_pos and ES less_than_Trad_and_neg:  6.4\n",
      "WTP strict_pos and ES equal_0:  8.59\n",
      "WTP strict_pos and ES equal_Trad:  32.72\n",
      "WTP strict_pos and ES greater_than_Trad:  6.22\n",
      "WTP strict_pos =  80.25999999999999\n",
      "99.99999999999999\n",
      "WTP strict_neg and ES strict_neg:  0.54\n",
      "WTP strict_neg and ES zero:  0.11\n",
      "WTP strict_neg and ES strict_pos:  0.43\n",
      "WTP zero and ES strict_neg:  0.32\n",
      "WTP zero and ES zero:  15.04\n",
      "WTP zero and ES strict_pos:  2.79\n",
      "WTP strict_pos and ES less_than_Trad_and_pos:  27.39\n",
      "WTP strict_pos and ES less_than_Trad_and_neg:  3.97\n",
      "WTP strict_pos and ES equal_0:  8.81\n",
      "WTP strict_pos and ES equal_Trad:  34.48\n",
      "WTP strict_pos and ES greater_than_Trad:  6.12\n",
      "WTP strict_pos =  80.77000000000001\n",
      "100.0\n",
      "WTP strict_neg and ES strict_neg:  0.26\n",
      "WTP strict_neg and ES zero:  0.0\n",
      "WTP strict_neg and ES strict_pos:  0.66\n",
      "WTP zero and ES strict_neg:  0.53\n",
      "WTP zero and ES zero:  16.05\n",
      "WTP zero and ES strict_pos:  3.03\n",
      "WTP strict_pos and ES less_than_Trad_and_pos:  26.97\n",
      "WTP strict_pos and ES less_than_Trad_and_neg:  5.26\n",
      "WTP strict_pos and ES equal_0:  9.61\n",
      "WTP strict_pos and ES equal_Trad:  31.84\n",
      "WTP strict_pos and ES greater_than_Trad:  5.79\n",
      "WTP strict_pos =  79.47\n",
      "100.0\n",
      "WTP strict_neg and ES strict_neg:  0.56\n",
      "WTP strict_neg and ES zero:  0.14\n",
      "WTP strict_neg and ES strict_pos:  0.42\n",
      "WTP zero and ES strict_neg:  0.42\n",
      "WTP zero and ES zero:  13.93\n",
      "WTP zero and ES strict_pos:  2.79\n",
      "WTP strict_pos and ES less_than_Trad_and_pos:  27.02\n",
      "WTP strict_pos and ES less_than_Trad_and_neg:  4.46\n",
      "WTP strict_pos and ES equal_0:  7.8\n",
      "WTP strict_pos and ES equal_Trad:  35.93\n",
      "WTP strict_pos and ES greater_than_Trad:  6.55\n",
      "WTP strict_pos =  81.76\n",
      "100.02\n",
      "WTP strict_neg and ES strict_neg:  0.88\n",
      "WTP strict_neg and ES zero:  0.0\n",
      "WTP strict_neg and ES strict_pos:  1.75\n",
      "WTP zero and ES strict_neg:  1.75\n",
      "WTP zero and ES zero:  14.91\n",
      "WTP zero and ES strict_pos:  4.39\n",
      "WTP strict_pos and ES less_than_Trad_and_pos:  25.44\n",
      "WTP strict_pos and ES less_than_Trad_and_neg:  5.26\n",
      "WTP strict_pos and ES equal_0:  5.26\n",
      "WTP strict_pos and ES equal_Trad:  35.96\n",
      "WTP strict_pos and ES greater_than_Trad:  4.39\n",
      "WTP strict_pos =  76.31\n",
      "99.99\n",
      "WTP strict_neg and ES strict_neg:  0.72\n",
      "WTP strict_neg and ES zero:  0.0\n",
      "WTP strict_neg and ES strict_pos:  0.36\n",
      "WTP zero and ES strict_neg:  0.0\n",
      "WTP zero and ES zero:  13.04\n",
      "WTP zero and ES strict_pos:  3.26\n",
      "WTP strict_pos and ES less_than_Trad_and_pos:  32.97\n",
      "WTP strict_pos and ES less_than_Trad_and_neg:  2.9\n",
      "WTP strict_pos and ES equal_0:  11.23\n",
      "WTP strict_pos and ES equal_Trad:  32.25\n",
      "WTP strict_pos and ES greater_than_Trad:  3.26\n",
      "WTP strict_pos =  82.61\n",
      "99.99\n",
      "full sample\n",
      "{'warhol_Yes': '0.16\\\\% & 0.0\\\\% & 0.62\\\\% & 0.93\\\\% & 17.13\\\\% & 2.96\\\\% & 6.54\\\\% & 6.7\\\\% & 21.18\\\\% & 37.07\\\\% & 6.7\\\\%', 'warhol_No': '0.6\\\\% & 0.12\\\\% & 0.48\\\\% & 0.12\\\\% & 13.4\\\\% & 2.87\\\\% & 3.59\\\\% & 10.29\\\\% & 31.46\\\\% & 31.34\\\\% & 5.74\\\\%', 'arkansas_Better off': '0.18\\\\% & 0.0\\\\% & 0.73\\\\% & 0.73\\\\% & 14.99\\\\% & 3.11\\\\% & 6.4\\\\% & 8.59\\\\% & 26.33\\\\% & 32.72\\\\% & 6.22\\\\%', 'arkansas_Worse off': '0.54\\\\% & 0.11\\\\% & 0.43\\\\% & 0.32\\\\% & 15.04\\\\% & 2.79\\\\% & 3.97\\\\% & 8.81\\\\% & 27.39\\\\% & 34.48\\\\% & 6.12\\\\%', 'experience_Yes': '0.26\\\\% & 0.0\\\\% & 0.66\\\\% & 0.53\\\\% & 16.05\\\\% & 3.03\\\\% & 5.26\\\\% & 9.61\\\\% & 26.97\\\\% & 31.84\\\\% & 5.79\\\\%', 'experience_No': '0.56\\\\% & 0.14\\\\% & 0.42\\\\% & 0.42\\\\% & 13.93\\\\% & 2.79\\\\% & 4.46\\\\% & 7.8\\\\% & 27.02\\\\% & 35.93\\\\% & 6.55\\\\%', 'all_questions_ES': '0.88\\\\% & 0.0\\\\% & 1.75\\\\% & 1.75\\\\% & 14.91\\\\% & 4.39\\\\% & 5.26\\\\% & 5.26\\\\% & 25.44\\\\% & 35.96\\\\% & 4.39\\\\%', 'all_questions_MS': '0.72\\\\% & 0.0\\\\% & 0.36\\\\% & 0.0\\\\% & 13.04\\\\% & 3.26\\\\% & 2.9\\\\% & 11.23\\\\% & 32.97\\\\% & 32.25\\\\% & 3.26\\\\%'}\n",
      "WTP strict_neg and ES strict_neg:  0.0\n",
      "WTP strict_neg and ES zero:  0.0\n",
      "WTP strict_neg and ES strict_pos:  0.0\n",
      "WTP zero and ES strict_neg:  0.94\n",
      "WTP zero and ES zero:  15.49\n",
      "WTP zero and ES strict_pos:  1.88\n",
      "WTP strict_pos and ES less_than_Trad_and_pos:  26.29\n",
      "WTP strict_pos and ES less_than_Trad_and_neg:  3.76\n",
      "WTP strict_pos and ES equal_0:  7.98\n",
      "WTP strict_pos and ES equal_Trad:  36.62\n",
      "WTP strict_pos and ES greater_than_Trad:  7.04\n",
      "WTP strict_pos =  81.69000000000001\n",
      "99.99999999999999\n",
      "WTP strict_neg and ES strict_neg:  0.36\n",
      "WTP strict_neg and ES zero:  0.36\n",
      "WTP strict_neg and ES strict_pos:  0.36\n",
      "WTP zero and ES strict_neg:  0.0\n",
      "WTP zero and ES zero:  13.57\n",
      "WTP zero and ES strict_pos:  3.93\n",
      "WTP strict_pos and ES less_than_Trad_and_pos:  31.07\n",
      "WTP strict_pos and ES less_than_Trad_and_neg:  3.57\n",
      "WTP strict_pos and ES equal_0:  11.79\n",
      "WTP strict_pos and ES equal_Trad:  31.43\n",
      "WTP strict_pos and ES greater_than_Trad:  3.57\n",
      "WTP strict_pos =  81.42999999999999\n",
      "100.00999999999999\n",
      "WTP strict_neg and ES strict_neg:  0.0\n",
      "WTP strict_neg and ES zero:  0.0\n",
      "WTP strict_neg and ES strict_pos:  0.0\n",
      "WTP zero and ES strict_neg:  0.54\n",
      "WTP zero and ES zero:  13.98\n",
      "WTP zero and ES strict_pos:  2.15\n",
      "WTP strict_pos and ES less_than_Trad_and_pos:  31.18\n",
      "WTP strict_pos and ES less_than_Trad_and_neg:  4.3\n",
      "WTP strict_pos and ES equal_0:  9.14\n",
      "WTP strict_pos and ES equal_Trad:  33.87\n",
      "WTP strict_pos and ES greater_than_Trad:  4.84\n",
      "WTP strict_pos =  83.33\n",
      "100.0\n",
      "WTP strict_neg and ES strict_neg:  0.33\n",
      "WTP strict_neg and ES zero:  0.33\n",
      "WTP strict_neg and ES strict_pos:  0.33\n",
      "WTP zero and ES strict_neg:  0.33\n",
      "WTP zero and ES zero:  14.66\n",
      "WTP zero and ES strict_pos:  3.58\n",
      "WTP strict_pos and ES less_than_Trad_and_pos:  27.69\n",
      "WTP strict_pos and ES less_than_Trad_and_neg:  3.26\n",
      "WTP strict_pos and ES equal_0:  10.75\n",
      "WTP strict_pos and ES equal_Trad:  33.55\n",
      "WTP strict_pos and ES greater_than_Trad:  5.21\n",
      "WTP strict_pos =  80.46\n",
      "100.02\n",
      "WTP strict_neg and ES strict_neg:  0.42\n",
      "WTP strict_neg and ES zero:  0.0\n",
      "WTP strict_neg and ES strict_pos:  0.42\n",
      "WTP zero and ES strict_neg:  0.42\n",
      "WTP zero and ES zero:  13.33\n",
      "WTP zero and ES strict_pos:  3.33\n",
      "WTP strict_pos and ES less_than_Trad_and_pos:  27.5\n",
      "WTP strict_pos and ES less_than_Trad_and_neg:  4.17\n",
      "WTP strict_pos and ES equal_0:  12.08\n",
      "WTP strict_pos and ES equal_Trad:  34.58\n",
      "WTP strict_pos and ES greater_than_Trad:  3.75\n",
      "WTP strict_pos =  82.08\n",
      "100.0\n",
      "WTP strict_neg and ES strict_neg:  0.0\n",
      "WTP strict_neg and ES zero:  0.4\n",
      "WTP strict_neg and ES strict_pos:  0.0\n",
      "WTP zero and ES strict_neg:  0.4\n",
      "WTP zero and ES zero:  15.42\n",
      "WTP zero and ES strict_pos:  2.77\n",
      "WTP strict_pos and ES less_than_Trad_and_pos:  30.43\n",
      "WTP strict_pos and ES less_than_Trad_and_neg:  3.16\n",
      "WTP strict_pos and ES equal_0:  8.3\n",
      "WTP strict_pos and ES equal_Trad:  32.81\n",
      "WTP strict_pos and ES greater_than_Trad:  6.32\n",
      "WTP strict_pos =  81.02000000000001\n",
      "100.00999999999999\n",
      "WTP strict_neg and ES strict_neg:  0.0\n",
      "WTP strict_neg and ES zero:  0.0\n",
      "WTP strict_neg and ES strict_pos:  0.0\n",
      "WTP zero and ES strict_neg:  2.27\n",
      "WTP zero and ES zero:  15.91\n",
      "WTP zero and ES strict_pos:  0.0\n",
      "WTP strict_pos and ES less_than_Trad_and_pos:  31.82\n",
      "WTP strict_pos and ES less_than_Trad_and_neg:  2.27\n",
      "WTP strict_pos and ES equal_0:  2.27\n",
      "WTP strict_pos and ES equal_Trad:  40.91\n",
      "WTP strict_pos and ES greater_than_Trad:  4.55\n",
      "WTP strict_pos =  81.82000000000001\n",
      "100.0\n",
      "WTP strict_neg and ES strict_neg:  1.08\n",
      "WTP strict_neg and ES zero:  0.0\n",
      "WTP strict_neg and ES strict_pos:  1.08\n",
      "WTP zero and ES strict_neg:  0.0\n",
      "WTP zero and ES zero:  10.75\n",
      "WTP zero and ES strict_pos:  4.3\n",
      "WTP strict_pos and ES less_than_Trad_and_pos:  27.96\n",
      "WTP strict_pos and ES less_than_Trad_and_neg:  3.23\n",
      "WTP strict_pos and ES equal_0:  11.83\n",
      "WTP strict_pos and ES equal_Trad:  38.71\n",
      "WTP strict_pos and ES greater_than_Trad:  1.08\n",
      "WTP strict_pos =  82.81\n",
      "100.02\n",
      "\n",
      "baseline\n",
      "{'warhol_Yes': '0.0\\\\% & 0.0\\\\% & 0.0\\\\% & 0.94\\\\% & 15.49\\\\% & 1.88\\\\% & 3.76\\\\% & 7.98\\\\% & 26.29\\\\% & 36.62\\\\% & 7.04\\\\%', 'warhol_No': '0.36\\\\% & 0.36\\\\% & 0.36\\\\% & 0.0\\\\% & 13.57\\\\% & 3.93\\\\% & 3.57\\\\% & 11.79\\\\% & 31.07\\\\% & 31.43\\\\% & 3.57\\\\%', 'arkansas_Better off': '0.0\\\\% & 0.0\\\\% & 0.0\\\\% & 0.54\\\\% & 13.98\\\\% & 2.15\\\\% & 4.3\\\\% & 9.14\\\\% & 31.18\\\\% & 33.87\\\\% & 4.84\\\\%', 'arkansas_Worse off': '0.33\\\\% & 0.33\\\\% & 0.33\\\\% & 0.33\\\\% & 14.66\\\\% & 3.58\\\\% & 3.26\\\\% & 10.75\\\\% & 27.69\\\\% & 33.55\\\\% & 5.21\\\\%', 'experience_Yes': '0.42\\\\% & 0.0\\\\% & 0.42\\\\% & 0.42\\\\% & 13.33\\\\% & 3.33\\\\% & 4.17\\\\% & 12.08\\\\% & 27.5\\\\% & 34.58\\\\% & 3.75\\\\%', 'experience_No': '0.0\\\\% & 0.4\\\\% & 0.0\\\\% & 0.4\\\\% & 15.42\\\\% & 2.77\\\\% & 3.16\\\\% & 8.3\\\\% & 30.43\\\\% & 32.81\\\\% & 6.32\\\\%', 'all_questions_ES': '0.0\\\\% & 0.0\\\\% & 0.0\\\\% & 2.27\\\\% & 15.91\\\\% & 0.0\\\\% & 2.27\\\\% & 2.27\\\\% & 31.82\\\\% & 40.91\\\\% & 4.55\\\\%', 'all_questions_MS': '1.08\\\\% & 0.0\\\\% & 1.08\\\\% & 0.0\\\\% & 10.75\\\\% & 4.3\\\\% & 3.23\\\\% & 11.83\\\\% & 27.96\\\\% & 38.71\\\\% & 1.08\\\\%'}\n"
     ]
    },
    {
     "name": "stderr",
     "output_type": "stream",
     "text": [
      "/var/folders/6j/s1yqxb392j11117mvgndr8c40000gn/T/ipykernel_53400/1749104571.py:7: SettingWithCopyWarning: \n",
      "A value is trying to be set on a copy of a slice from a DataFrame.\n",
      "Try using .loc[row_indexer,col_indexer] = value instead\n",
      "\n",
      "See the caveats in the documentation: https://pandas.pydata.org/pandas-docs/stable/user_guide/indexing.html#returning-a-view-versus-a-copy\n",
      "  data[f'{wtp_type}_wtp_zero'] = cond1 & cond2\n",
      "/var/folders/6j/s1yqxb392j11117mvgndr8c40000gn/T/ipykernel_53400/1749104571.py:10: SettingWithCopyWarning: \n",
      "A value is trying to be set on a copy of a slice from a DataFrame.\n",
      "Try using .loc[row_indexer,col_indexer] = value instead\n",
      "\n",
      "See the caveats in the documentation: https://pandas.pydata.org/pandas-docs/stable/user_guide/indexing.html#returning-a-view-versus-a-copy\n",
      "  data[f'{wtp_type}_wtp_strict_pos'] = cond1\n",
      "/var/folders/6j/s1yqxb392j11117mvgndr8c40000gn/T/ipykernel_53400/1749104571.py:13: SettingWithCopyWarning: \n",
      "A value is trying to be set on a copy of a slice from a DataFrame.\n",
      "Try using .loc[row_indexer,col_indexer] = value instead\n",
      "\n",
      "See the caveats in the documentation: https://pandas.pydata.org/pandas-docs/stable/user_guide/indexing.html#returning-a-view-versus-a-copy\n",
      "  data[f'{wtp_type}_wtp_strict_neg'] = cond1\n",
      "/var/folders/6j/s1yqxb392j11117mvgndr8c40000gn/T/ipykernel_53400/1749104571.py:15: SettingWithCopyWarning: \n",
      "A value is trying to be set on a copy of a slice from a DataFrame.\n",
      "Try using .loc[row_indexer,col_indexer] = value instead\n",
      "\n",
      "See the caveats in the documentation: https://pandas.pydata.org/pandas-docs/stable/user_guide/indexing.html#returning-a-view-versus-a-copy\n",
      "  data['ES_less_than_Trad_and_pos'] = (data['Trad_wtp_point'] > data['ES_wtp_point']) & (data['ES_wtp_point'] > 0)\n",
      "/var/folders/6j/s1yqxb392j11117mvgndr8c40000gn/T/ipykernel_53400/1749104571.py:16: SettingWithCopyWarning: \n",
      "A value is trying to be set on a copy of a slice from a DataFrame.\n",
      "Try using .loc[row_indexer,col_indexer] = value instead\n",
      "\n",
      "See the caveats in the documentation: https://pandas.pydata.org/pandas-docs/stable/user_guide/indexing.html#returning-a-view-versus-a-copy\n",
      "  data['ES_less_than_Trad_and_neg'] = (data['Trad_wtp_point'] > data['ES_wtp_point']) & (data['ES_wtp_point'] < 0)\n",
      "/var/folders/6j/s1yqxb392j11117mvgndr8c40000gn/T/ipykernel_53400/1749104571.py:17: SettingWithCopyWarning: \n",
      "A value is trying to be set on a copy of a slice from a DataFrame.\n",
      "Try using .loc[row_indexer,col_indexer] = value instead\n",
      "\n",
      "See the caveats in the documentation: https://pandas.pydata.org/pandas-docs/stable/user_guide/indexing.html#returning-a-view-versus-a-copy\n",
      "  data['ES_equal_0'] = data['ES_wtp_point'] == 0\n",
      "/var/folders/6j/s1yqxb392j11117mvgndr8c40000gn/T/ipykernel_53400/1749104571.py:18: SettingWithCopyWarning: \n",
      "A value is trying to be set on a copy of a slice from a DataFrame.\n",
      "Try using .loc[row_indexer,col_indexer] = value instead\n",
      "\n",
      "See the caveats in the documentation: https://pandas.pydata.org/pandas-docs/stable/user_guide/indexing.html#returning-a-view-versus-a-copy\n",
      "  data['ES_equal_Trad'] = data['Trad_wtp_point'] == data['ES_wtp_point']\n",
      "/var/folders/6j/s1yqxb392j11117mvgndr8c40000gn/T/ipykernel_53400/1749104571.py:19: SettingWithCopyWarning: \n",
      "A value is trying to be set on a copy of a slice from a DataFrame.\n",
      "Try using .loc[row_indexer,col_indexer] = value instead\n",
      "\n",
      "See the caveats in the documentation: https://pandas.pydata.org/pandas-docs/stable/user_guide/indexing.html#returning-a-view-versus-a-copy\n",
      "  data['ES_greater_than_Trad'] = data['Trad_wtp_point'] < data['ES_wtp_point']\n",
      "/var/folders/6j/s1yqxb392j11117mvgndr8c40000gn/T/ipykernel_53400/1749104571.py:25: SettingWithCopyWarning: \n",
      "A value is trying to be set on a copy of a slice from a DataFrame.\n",
      "Try using .loc[row_indexer,col_indexer] = value instead\n",
      "\n",
      "See the caveats in the documentation: https://pandas.pydata.org/pandas-docs/stable/user_guide/indexing.html#returning-a-view-versus-a-copy\n",
      "  data['Trad_wtp_' + WTP_type +'_ES_wtp_'+ES_type] = data[f'Trad_wtp_{WTP_type}'] & data[f'ES_wtp_{ES_type}']\n",
      "/var/folders/6j/s1yqxb392j11117mvgndr8c40000gn/T/ipykernel_53400/1749104571.py:34: SettingWithCopyWarning: \n",
      "A value is trying to be set on a copy of a slice from a DataFrame.\n",
      "Try using .loc[row_indexer,col_indexer] = value instead\n",
      "\n",
      "See the caveats in the documentation: https://pandas.pydata.org/pandas-docs/stable/user_guide/indexing.html#returning-a-view-versus-a-copy\n",
      "  data['Trad_wtp_strict_pos_ES_wtp_'+ES_type] = data[f'Trad_wtp_strict_pos'] & data[f'ES_{ES_type}']\n"
     ]
    }
   ],
   "source": [
    "answer_dict = {'warhol': ['Yes','No'], 'arkansas': ['Better off','Worse off'],'experience':['Yes','No'],'all_questions':['ES','MS']}\n",
    "\n",
    "\n",
    "tables = {}\n",
    "\n",
    "\n",
    "\n",
    "\n",
    "\n",
    "\n",
    "for question in ['warhol','arkansas','experience','all_questions']:\n",
    "    for i in range(2):\n",
    "        \n",
    "        cond1 = data[question] == answer_dict[question][i]\n",
    "        # cond2 = data['treatment']=='middle'\n",
    "        _, output = calculate_wtp_metrics(data[cond1 ])\n",
    "\n",
    "\n",
    "        text = f\"{output['WTP strict_neg and ES strict_neg']}\\% & {output['WTP strict_neg and ES zero']}\\% & {output['WTP strict_neg and ES strict_pos']}\\% & {output['WTP zero and ES strict_neg']}\\% & {output['WTP zero and ES zero']}\\% & {output['WTP zero and ES strict_pos']}\\% & {output['WTP strict_pos and ES less_than_Trad_and_neg']}\\% & {output['WTP strict_pos and ES equal_0']}\\% & {output['WTP strict_pos and ES less_than_Trad_and_pos']}\\% & {output['WTP strict_pos and ES equal_Trad']}\\% & {output['WTP strict_pos and ES greater_than_Trad']}\\%\"\n",
    "\n",
    "        tables[f'{question}_{answer_dict[question][i]}'] = text\n",
    "\n",
    "print('full sample')\n",
    "print(tables)\n",
    "\n",
    "\n",
    "\n",
    "for question in ['warhol','arkansas','experience','all_questions']:\n",
    "    for i in range(2):\n",
    "        \n",
    "        cond1 = data[question] == answer_dict[question][i]\n",
    "        cond2 = data['treatment']=='middle'\n",
    "        _, output = calculate_wtp_metrics(data[cond1 & cond2])\n",
    "\n",
    "\n",
    "        text = f\"{output['WTP strict_neg and ES strict_neg']}\\% & {output['WTP strict_neg and ES zero']}\\% & {output['WTP strict_neg and ES strict_pos']}\\% & {output['WTP zero and ES strict_neg']}\\% & {output['WTP zero and ES zero']}\\% & {output['WTP zero and ES strict_pos']}\\% & {output['WTP strict_pos and ES less_than_Trad_and_neg']}\\% & {output['WTP strict_pos and ES equal_0']}\\% & {output['WTP strict_pos and ES less_than_Trad_and_pos']}\\% & {output['WTP strict_pos and ES equal_Trad']}\\% & {output['WTP strict_pos and ES greater_than_Trad']}\\%\"\n",
    "\n",
    "        tables[f'{question}_{answer_dict[question][i]}'] = text\n",
    "\n",
    "print()\n",
    "print('baseline')\n",
    "print(tables)\n"
   ]
  },
  {
   "cell_type": "code",
   "execution_count": null,
   "metadata": {},
   "outputs": [],
   "source": []
  },
  {
   "cell_type": "code",
   "execution_count": null,
   "metadata": {},
   "outputs": [
    {
     "name": "stdout",
     "output_type": "stream",
     "text": [
      "                   warhol_binary  arkansas_binary  experience_binary\n",
      "warhol_binary           1.000000         0.057670           0.005795\n",
      "arkansas_binary         0.057670         1.000000          -0.052508\n",
      "experience_binary       0.005795        -0.052508           1.000000\n"
     ]
    }
   ],
   "source": [
    "labels_unincentivized = {\n",
    "    'warhol': [('No', 'No (MS)'), ('Yes', 'Yes (ES)')],\n",
    "    'arkansas': [('Worse off', 'Worse off (MS)'), ('Better off', 'Better off (ES)')],\n",
    "    'experience': [('Yes', 'Yes (MS)'), ('No', 'No (ES)')]   \n",
    "}\n",
    "\n",
    "columns_to_correlate = ['warhol','arkansas','experience']\n",
    "\n",
    "\n",
    "for el in columns_to_correlate:\n",
    "    data[f'{el}_binary'] = data[el]==labels_unincentivized[el][0][0]\n",
    "\n",
    "columns_to_correlate = [f'{el}_binary' for el in columns_to_correlate]\n",
    "\n",
    "# Calculate the correlation matrix\n",
    "correlation_matrix = data[columns_to_correlate].corr()\n",
    "\n",
    "print(correlation_matrix)"
   ]
  },
  {
   "cell_type": "code",
   "execution_count": null,
   "metadata": {},
   "outputs": [
    {
     "name": "stdout",
     "output_type": "stream",
     "text": [
      "-1.0\n",
      "-1.0\n",
      "-1.0\n",
      "(-1.0, 200.0)\n"
     ]
    },
    {
     "data": {
      "image/png": "[encoded data removed]",
      "text/plain": [
       "<Figure size 300x200 with 1 Axes>"
      ]
     },
     "metadata": {},
     "output_type": "display_data"
    },
    {
     "name": "stdout",
     "output_type": "stream",
     "text": [
      "-1.0\n",
      "-1.0\n",
      "-1.0\n",
      "(-1.0, 200.0)\n"
     ]
    },
    {
     "data": {
      "image/png": "[encoded data removed]",
      "text/plain": [
       "<Figure size 300x200 with 1 Axes>"
      ]
     },
     "metadata": {},
     "output_type": "display_data"
    },
    {
     "name": "stdout",
     "output_type": "stream",
     "text": [
      "Trad_wtp_strict_neg_ES_wtp_strict_neg ES\n",
      "-1.0\n",
      "-1.0\n",
      "-1.0\n",
      "(-1.05, -0.95)\n"
     ]
    },
    {
     "data": {
      "image/png": "[encoded data removed]",
      "text/plain": [
       "<Figure size 300x200 with 1 Axes>"
      ]
     },
     "metadata": {},
     "output_type": "display_data"
    },
    {
     "name": "stdout",
     "output_type": "stream",
     "text": [
      "Trad_wtp_strict_neg_ES_wtp_strict_neg Trad\n",
      "-1.0\n",
      "-1.0\n",
      "-1.0\n",
      "(-1.05, -0.95)\n"
     ]
    },
    {
     "data": {
      "image/png": "[encoded data removed]",
      "text/plain": [
       "<Figure size 300x200 with 1 Axes>"
      ]
     },
     "metadata": {},
     "output_type": "display_data"
    },
    {
     "name": "stdout",
     "output_type": "stream",
     "text": [
      "Trad_wtp_strict_neg_ES_wtp_zero ES\n",
      "0.0\n",
      "nan\n",
      "nan\n",
      "(-0.05, 0.05)\n"
     ]
    },
    {
     "data": {
      "image/png": "[encoded data removed]",
      "text/plain": [
       "<Figure size 300x200 with 1 Axes>"
      ]
     },
     "metadata": {},
     "output_type": "display_data"
    },
    {
     "name": "stdout",
     "output_type": "stream",
     "text": [
      "Trad_wtp_strict_neg_ES_wtp_zero Trad\n",
      "-1.0\n",
      "nan\n",
      "nan\n",
      "(-1.05, -0.95)\n"
     ]
    },
    {
     "data": {
      "image/png": "[encoded data removed]",
      "text/plain": [
       "<Figure size 300x200 with 1 Axes>"
      ]
     },
     "metadata": {},
     "output_type": "display_data"
    },
    {
     "name": "stdout",
     "output_type": "stream",
     "text": [
      "Trad_wtp_strict_neg_ES_wtp_strict_pos ES\n",
      "8.5\n",
      "20.0\n",
      "1.5\n",
      "(1.5, 200.0)\n"
     ]
    },
    {
     "data": {
      "image/png": "[encoded data removed]",
      "text/plain": [
       "<Figure size 300x200 with 1 Axes>"
      ]
     },
     "metadata": {},
     "output_type": "display_data"
    },
    {
     "name": "stdout",
     "output_type": "stream",
     "text": [
      "Trad_wtp_strict_neg_ES_wtp_strict_pos Trad\n",
      "-1.0\n",
      "-1.0\n",
      "-1.0\n",
      "(-1.05, -0.95)\n"
     ]
    },
    {
     "data": {
      "image/png": "[encoded data removed]",
      "text/plain": [
       "<Figure size 300x200 with 1 Axes>"
      ]
     },
     "metadata": {},
     "output_type": "display_data"
    },
    {
     "name": "stdout",
     "output_type": "stream",
     "text": [
      "Trad_wtp_zero_ES_wtp_strict_neg ES\n",
      "-1.0\n",
      "-1.0\n",
      "-1.0\n",
      "(-1.05, -0.95)\n"
     ]
    },
    {
     "data": {
      "image/png": "[encoded data removed]",
      "text/plain": [
       "<Figure size 300x200 with 1 Axes>"
      ]
     },
     "metadata": {},
     "output_type": "display_data"
    },
    {
     "name": "stdout",
     "output_type": "stream",
     "text": [
      "Trad_wtp_zero_ES_wtp_strict_neg Trad\n",
      "0.5\n",
      "-0.5\n",
      "0.5\n",
      "(-0.5, 0.5)\n"
     ]
    },
    {
     "data": {
      "image/png": "[encoded data removed]",
      "text/plain": [
       "<Figure size 300x200 with 1 Axes>"
      ]
     },
     "metadata": {},
     "output_type": "display_data"
    },
    {
     "name": "stdout",
     "output_type": "stream",
     "text": [
      "Trad_wtp_zero_ES_wtp_zero ES\n",
      "-0.5\n",
      "-0.5\n",
      "-0.5\n",
      "(-0.5, 0.5)\n"
     ]
    },
    {
     "data": {
      "image/png": "[encoded data removed]",
      "text/plain": [
       "<Figure size 300x200 with 1 Axes>"
      ]
     },
     "metadata": {},
     "output_type": "display_data"
    },
    {
     "name": "stdout",
     "output_type": "stream",
     "text": [
      "Trad_wtp_zero_ES_wtp_zero Trad\n",
      "-0.5\n",
      "-0.5\n",
      "-0.5\n",
      "(-0.5, 0.5)\n"
     ]
    },
    {
     "data": {
      "image/png": "[encoded data removed]",
      "text/plain": [
       "<Figure size 300x200 with 1 Axes>"
      ]
     },
     "metadata": {},
     "output_type": "display_data"
    },
    {
     "name": "stdout",
     "output_type": "stream",
     "text": [
      "Trad_wtp_zero_ES_wtp_strict_pos ES\n",
      "1.5\n",
      "1.5\n",
      "1.5\n",
      "(1.5, 200.0)\n"
     ]
    },
    {
     "data": {
      "image/png": "[encoded data removed]",
      "text/plain": [
       "<Figure size 300x200 with 1 Axes>"
      ]
     },
     "metadata": {},
     "output_type": "display_data"
    },
    {
     "name": "stdout",
     "output_type": "stream",
     "text": [
      "Trad_wtp_zero_ES_wtp_strict_pos Trad\n",
      "-0.5\n",
      "-0.5\n",
      "-0.5\n",
      "(-0.5, 0.5)\n"
     ]
    },
    {
     "data": {
      "image/png": "[encoded data removed]",
      "text/plain": [
       "<Figure size 300x200 with 1 Axes>"
      ]
     },
     "metadata": {},
     "output_type": "display_data"
    },
    {
     "name": "stdout",
     "output_type": "stream",
     "text": [
      "Trad_wtp_strict_pos_ES_wtp_less_than_Trad_and_pos ES\n",
      "0.5\n",
      "0.5\n",
      "0.5\n",
      "(0.5, 170.0)\n"
     ]
    },
    {
     "data": {
      "image/png": "[encoded data removed]",
      "text/plain": [
       "<Figure size 300x200 with 1 Axes>"
      ]
     },
     "metadata": {},
     "output_type": "display_data"
    },
    {
     "name": "stdout",
     "output_type": "stream",
     "text": [
      "Trad_wtp_strict_pos_ES_wtp_less_than_Trad_and_pos Trad\n",
      "1.5\n",
      "1.5\n",
      "1.5\n",
      "(1.5, 200.0)\n"
     ]
    },
    {
     "data": {
      "image/png": "[encoded data removed]",
      "text/plain": [
       "<Figure size 300x200 with 1 Axes>"
      ]
     },
     "metadata": {},
     "output_type": "display_data"
    },
    {
     "name": "stdout",
     "output_type": "stream",
     "text": [
      "Trad_wtp_strict_pos_ES_wtp_less_than_Trad_and_neg ES\n",
      "-1.0\n",
      "-1.0\n",
      "-1.0\n",
      "(-1.0, -0.5)\n"
     ]
    },
    {
     "data": {
      "image/png": "[encoded data removed]",
      "text/plain": [
       "<Figure size 300x200 with 1 Axes>"
      ]
     },
     "metadata": {},
     "output_type": "display_data"
    },
    {
     "name": "stdout",
     "output_type": "stream",
     "text": [
      "Trad_wtp_strict_pos_ES_wtp_less_than_Trad_and_neg Trad\n",
      "1.5\n",
      "1.5\n",
      "1.5\n",
      "(1.5, 200.0)\n"
     ]
    },
    {
     "data": {
      "image/png": "[encoded data removed]",
      "text/plain": [
       "<Figure size 300x200 with 1 Axes>"
      ]
     },
     "metadata": {},
     "output_type": "display_data"
    },
    {
     "name": "stdout",
     "output_type": "stream",
     "text": [
      "Trad_wtp_strict_pos_ES_wtp_equal_0 ES\n",
      "0.0\n",
      "0.0\n",
      "0.0\n",
      "(-0.05, 0.05)\n"
     ]
    },
    {
     "data": {
      "image/png": "[encoded data removed]",
      "text/plain": [
       "<Figure size 300x200 with 1 Axes>"
      ]
     },
     "metadata": {},
     "output_type": "display_data"
    },
    {
     "name": "stdout",
     "output_type": "stream",
     "text": [
      "Trad_wtp_strict_pos_ES_wtp_equal_0 Trad\n",
      "1.5\n",
      "6.0\n",
      "1.5\n",
      "(1.5, 200.0)\n"
     ]
    },
    {
     "data": {
      "image/png": "[encoded data removed]",
      "text/plain": [
       "<Figure size 300x200 with 1 Axes>"
      ]
     },
     "metadata": {},
     "output_type": "display_data"
    },
    {
     "name": "stdout",
     "output_type": "stream",
     "text": [
      "Trad_wtp_strict_pos_ES_wtp_equal_Trad ES\n",
      "1.5\n",
      "1.5\n",
      "1.5\n",
      "(1.5, 200.0)\n"
     ]
    },
    {
     "data": {
      "image/png": "[encoded data removed]",
      "text/plain": [
       "<Figure size 300x200 with 1 Axes>"
      ]
     },
     "metadata": {},
     "output_type": "display_data"
    },
    {
     "name": "stdout",
     "output_type": "stream",
     "text": [
      "Trad_wtp_strict_pos_ES_wtp_equal_Trad Trad\n",
      "1.5\n",
      "1.5\n",
      "1.5\n",
      "(1.5, 200.0)\n"
     ]
    },
    {
     "data": {
      "image/png": "[encoded data removed]",
      "text/plain": [
       "<Figure size 300x200 with 1 Axes>"
      ]
     },
     "metadata": {},
     "output_type": "display_data"
    },
    {
     "name": "stdout",
     "output_type": "stream",
     "text": [
      "Trad_wtp_strict_pos_ES_wtp_greater_than_Trad ES\n",
      "8.5\n",
      "8.5\n",
      "12.5\n",
      "(8.5, 200.0)\n"
     ]
    },
    {
     "data": {
      "image/png": "[encoded data removed]",
      "text/plain": [
       "<Figure size 300x200 with 1 Axes>"
      ]
     },
     "metadata": {},
     "output_type": "display_data"
    },
    {
     "name": "stdout",
     "output_type": "stream",
     "text": [
      "Trad_wtp_strict_pos_ES_wtp_greater_than_Trad Trad\n",
      "1.5\n",
      "2.5\n",
      "1.5\n",
      "(1.5, 170.0)\n"
     ]
    },
    {
     "data": {
      "image/png": "[encoded data removed]",
      "text/plain": [
       "<Figure size 300x200 with 1 Axes>"
      ]
     },
     "metadata": {},
     "output_type": "display_data"
    }
   ],
   "source": [
    "\n",
    "\n",
    "\n",
    "\n",
    "def plot_and_save_cdf_by_treatment(data, treatment_column, WTP_type, filename):\n",
    "    # Get unique treatment values\n",
    "    treatments = ['middle', 'low', 'high']\n",
    "    \n",
    "    # Create a figure and axis\n",
    "    fig, ax = plt.subplots(figsize=(4,3))\n",
    "    \n",
    "    # Loop through unique treatments and plot separate CDF for each\n",
    "    for treatment in treatments:\n",
    "        treatment_data = data[data[treatment_column] == treatment]\n",
    "        print(treatment_data[f'{WTP_type}_wtp_point'].min())\n",
    "        sorted_data = np.sort(treatment_data[f'{WTP_type}_wtp_point'])\n",
    "        cdf = np.arange(1, len(sorted_data) + 1) / len(sorted_data)\n",
    "\n",
    "        # Set labels based on treatment\n",
    "        if treatment == 'middle':\n",
    "            label = 'Baseline'\n",
    "            color = 'lightgray'\n",
    "            linestyle = '-'\n",
    "            linewidth = 3\n",
    "        elif treatment == 'low':\n",
    "            label = 'Low'\n",
    "            color = 'black'\n",
    "            linestyle = '--'\n",
    "            linewidth = 2\n",
    "        elif treatment == 'high':\n",
    "            label = 'High'\n",
    "            color = 'black'\n",
    "            linestyle = '-'\n",
    "            linewidth = 2\n",
    "        \n",
    "        ax.step(sorted_data, cdf, where='pre', label=label, color=color, linestyle=linestyle, linewidth=linewidth)\n",
    "\n",
    "    # Set title based on WTP_type\n",
    "    # if WTP_type == 'ES':\n",
    "    #     ax.set_title(f'ES CDF by treatment (N={len(data)})')\n",
    "    # elif WTP_type == 'Trad':\n",
    "    #     ax.set_title(f'WTP CDF by treatment (N={len(data)})')\n",
    "\n",
    "    # Add labels and legend\n",
    "    ax.set_xlabel(r'Values')\n",
    "    ax.legend()\n",
    "    ax.margins(x=0,y=0)\n",
    "    print(ax.get_xlim())\n",
    "\n",
    "    fig.set_size_inches(w=3, h=2)\n",
    "\n",
    "\n",
    "    plt.tight_layout()\n",
    "\n",
    "    # Save the figure in the subfolder\n",
    "    file_path = os.path.join(subfolder_path, f'{filename}.pdf')\n",
    "    plt.savefig(file_path)\n",
    "\n",
    "\n",
    "    # Display the plot (optional)\n",
    "    plt.show()\n",
    "\n",
    "\n",
    "for WTP_type in ['ES', 'Trad']:\n",
    "    plot_and_save_cdf_by_treatment(data, 'treatment',WTP_type, f'CDF_by_treatment_{WTP_type}')\n",
    "\n",
    "\n",
    "list_of_types = []\n",
    "for WTP_type in ['strict_neg', 'zero']:\n",
    "    for ES_type in ['strict_neg', 'zero', 'strict_pos']:\n",
    "        myString = 'Trad_wtp_' + WTP_type +'_ES_wtp_'+ES_type\n",
    "        list_of_types.append(myString)\n",
    "\n",
    "for ES_type in ['less_than_Trad_and_pos', 'less_than_Trad_and_neg', 'equal_0', 'equal_Trad', 'greater_than_Trad']:\n",
    "    myString = 'Trad_wtp_strict_pos_ES_wtp_'+ES_type\n",
    "    list_of_types.append(myString)\n",
    "\n",
    "for el in list_of_types:\n",
    "    for WTP_type in ['ES', 'Trad']:\n",
    "        print(el, WTP_type)\n",
    "        plot_and_save_cdf_by_treatment(data[data[el]==1], 'treatment',WTP_type, f'CDF_by_treatment_{el}_{WTP_type}')"
   ]
  },
  {
   "cell_type": "code",
   "execution_count": null,
   "metadata": {},
   "outputs": [
    {
     "data": {
      "image/png": "[encoded data removed]",
      "text/plain": [
       "<Figure size 300x200 with 1 Axes>"
      ]
     },
     "metadata": {},
     "output_type": "display_data"
    },
    {
     "data": {
      "image/png": "[encoded data removed]",
      "text/plain": [
       "<Figure size 300x200 with 1 Axes>"
      ]
     },
     "metadata": {},
     "output_type": "display_data"
    },
    {
     "data": {
      "image/png": "[encoded data removed]",
      "text/plain": [
       "<Figure size 300x200 with 1 Axes>"
      ]
     },
     "metadata": {},
     "output_type": "display_data"
    },
    {
     "data": {
      "image/png": "[encoded data removed]",
      "text/plain": [
       "<Figure size 300x200 with 1 Axes>"
      ]
     },
     "metadata": {},
     "output_type": "display_data"
    },
    {
     "data": {
      "image/png": "[encoded data removed]",
      "text/plain": [
       "<Figure size 300x200 with 1 Axes>"
      ]
     },
     "metadata": {},
     "output_type": "display_data"
    },
    {
     "data": {
      "image/png": "[encoded data removed]",
      "text/plain": [
       "<Figure size 300x200 with 1 Axes>"
      ]
     },
     "metadata": {},
     "output_type": "display_data"
    }
   ],
   "source": [
    "## FOR SLIDES\n",
    "from matplotlib.lines import Line2D\n",
    "plt.rcParams.update({\n",
    "    \"pgf.texsystem\": \"pdflatex\",\n",
    "    'font.family': 'serif',\n",
    "    'font.serif': [],  # clear any existing serif font\n",
    "    'font.sans-serif': ['cmss'],  # Computer Modern Sans Serif\n",
    "    'font.size': 8,\n",
    "    'text.usetex': True,\n",
    "    'pgf.rcfonts': False,\n",
    "})\n",
    "\n",
    "def plot_and_save_cdf_by_treatment_slides(data, treatment_column, WTP_type, filename, treatments=['middle', 'low', 'high']):\n",
    "    # Get unique treatment values\n",
    "    # treatments = ['middle', 'low', 'high']\n",
    "    \n",
    "    # Create a figure and axis\n",
    "    fig, ax = plt.subplots(figsize=(4,3))\n",
    "    \n",
    "    # Loop through unique treatments and plot separate CDF for each\n",
    "    for treatment in treatments:\n",
    "        treatment_data = data[data[treatment_column] == treatment]\n",
    "        sorted_data = np.sort(treatment_data[f'{WTP_type}_wtp_point'])\n",
    "        cdf = np.arange(1, len(sorted_data) + 1) / len(sorted_data)\n",
    "\n",
    "        # Set labels based on treatment\n",
    "        if treatment == 'middle':\n",
    "            label = 'Baseline'\n",
    "            color = 'lightgray'\n",
    "            linestyle = '-'\n",
    "            linewidth = 3\n",
    "        elif treatment == 'low':\n",
    "            label = 'LowMS'\n",
    "            color = 'black'\n",
    "            linestyle = '--'\n",
    "            linewidth = 2\n",
    "        elif treatment == 'high':\n",
    "            label = 'HighMS'\n",
    "            color = 'black'\n",
    "            linestyle = '-'\n",
    "            linewidth = 2\n",
    "        \n",
    "        if WTP_type == 'ES':\n",
    "            x_label = r'$W_{NL}$'\n",
    "        else:\n",
    "            x_label = r'$W_{L}$'\n",
    "        ax.step(sorted_data, cdf, where='pre', label=label, color=color, linestyle=linestyle, linewidth=linewidth)\n",
    "\n",
    "    # Set x label and y label\n",
    "    ax.set_xlabel(x_label)\n",
    "    # ax.set_ylabel('Cumulative Probability')\n",
    "\n",
    "    # Add legend\n",
    "          \n",
    "    legend_elements = [Line2D([0], [0], color='lightgray', ls='-',lw=2, label='Baseline'),\n",
    "                   Line2D([0], [0], color='black', ls='--',lw=2, label=r'MSLow'),\n",
    "                   Line2D([0], [0], color='black', ls='-',lw=2, label=r'MSHigh')]\n",
    "\n",
    "\n",
    "\n",
    "    ax.legend(handles=legend_elements, loc='lower right')\n",
    "\n",
    "\n",
    "    # Adjust margins\n",
    "    ax.margins(x=0, y=0)\n",
    "\n",
    "    # Save the current xlim and ylim\n",
    "    xlim = ax.get_xlim()\n",
    "    ylim = ax.get_ylim()\n",
    "\n",
    "    # Set the figure size\n",
    "    fig.set_size_inches(w=3, h=2)\n",
    "\n",
    "    # Tight layout\n",
    "    plt.tight_layout()\n",
    "\n",
    "    # Save the figure in the subfolder\n",
    "    file_path = os.path.join(subfolder_path, f'{filename}.pdf')\n",
    "    plt.savefig(file_path)\n",
    "\n",
    "    # Display the plot (optional)\n",
    "    plt.show()\n",
    "\n",
    "    return xlim, ylim\n",
    "\n",
    "\n",
    "def plot_blank_cdf_by_treatment_slides(WTP_type, filename, xlim=None, ylim=None):\n",
    "    # Create a figure and axis\n",
    "    fig, ax = plt.subplots(figsize=(4,3))\n",
    "    \n",
    "    # Set labels based on WTP_type\n",
    "    if WTP_type == 'ES':\n",
    "        x_label = r'$W_{NL}$'\n",
    "    else:\n",
    "        x_label = r'$W_{L}$'\n",
    "\n",
    "    # Set x and y labels\n",
    "    ax.set_xlabel(x_label)\n",
    "    # ax.set_ylabel('Cumulative Probability')\n",
    "\n",
    "    # Set x and y limits if provided\n",
    "    if xlim is not None:\n",
    "        ax.set_xlim(xlim)\n",
    "    if ylim is not None:\n",
    "        ax.set_ylim(ylim)\n",
    "\n",
    "    # Create a legend\n",
    "        \n",
    "    legend_elements = [Line2D([0], [0], color='lightgray', ls='-',lw=2, label='Baseline'),\n",
    "                   Line2D([0], [0], color='black', ls='--',lw=2, label=r'MSLow'),\n",
    "                   Line2D([0], [0], color='black', ls='-',lw=2, label=r'MSHigh')]\n",
    "\n",
    "\n",
    "\n",
    "    ax.legend(handles=legend_elements, loc='lower right')\n",
    "\n",
    "    # Adjust margins\n",
    "    ax.margins(x=0, y=0)\n",
    "\n",
    "    # Set the figure size\n",
    "    fig.set_size_inches(w=3, h=2)\n",
    "\n",
    "    # Tight layout\n",
    "    plt.tight_layout()\n",
    "\n",
    "    # Save the figure in the subfolder\n",
    "    file_path = os.path.join(subfolder_path, f'{filename}.pdf')\n",
    "    plt.savefig(file_path)\n",
    "\n",
    "    # Show the blank plot (optional)\n",
    "    plt.show()\n",
    "\n",
    "\n",
    "for WTP_type in ['ES', 'Trad']:\n",
    "    xlim, ylim = plot_and_save_cdf_by_treatment_slides(data, 'treatment',WTP_type, f'CDF_by_treatment_{WTP_type}_slides_all')\n",
    "\n",
    "    plot_blank_cdf_by_treatment_slides(WTP_type, f'CDF_by_treatment_{WTP_type}_slides_blank', xlim=xlim, ylim=ylim)\n",
    "\n",
    "    plot_and_save_cdf_by_treatment_slides(data, 'treatment',WTP_type, f'CDF_by_treatment_{WTP_type}_slides_baseline',treatments=['middle'])\n",
    "\n",
    "\n",
    "\n",
    "\n",
    "\n"
   ]
  },
  {
   "cell_type": "code",
   "execution_count": null,
   "metadata": {},
   "outputs": [
    {
     "name": "stdout",
     "output_type": "stream",
     "text": [
      "Trad_wtp_strict_pos_ES_wtp_equal_0\n",
      "Two-Sample T-Test:\n",
      "T-Statistic: -1.5327818083839382\n",
      "P-Value: 0.12942822993290348\n",
      "\n",
      "Trad_wtp_strict_pos_ES_wtp_less_than_Trad_and_pos\n",
      "Two-Sample T-Test:\n",
      "T-Statistic: 0.9337791486410103\n",
      "P-Value: 0.3513046478026248\n",
      "\n",
      "Trad_wtp_strict_pos_ES_wtp_equal_Trad\n",
      "Two-Sample T-Test:\n",
      "T-Statistic: 1.3305547156182866\n",
      "P-Value: 0.1842487242717196\n",
      "\n",
      "Trad_wtp_strict_pos_ES_wtp_equal_Trad\n",
      "Two-Sample T-Test:\n",
      "T-Statistic: 2.0335198790953424\n",
      "P-Value: 0.042268209629995404\n",
      "\n",
      "Trad_wtp_strict_pos_ES_wtp_equal_0\n",
      "Two-Sample T-Test:\n",
      "T-Statistic: -1.5327818083839382\n",
      "P-Value: 0.06471411496645174\n",
      "\n",
      "Trad_wtp_strict_pos_ES_wtp_equal_Trad\n",
      "Two-Sample T-Test:\n",
      "T-Statistic: 1.3305547156182866\n",
      "P-Value: 0.0921243621358598\n",
      "\n"
     ]
    }
   ],
   "source": [
    "import scipy.stats as stats\n",
    "\n",
    "for type in ['Trad_wtp_strict_pos_ES_wtp_equal_0','Trad_wtp_strict_pos_ES_wtp_less_than_Trad_and_pos','Trad_wtp_strict_pos_ES_wtp_equal_Trad']:\n",
    "    pureMS = data[data[type]]\n",
    "\n",
    "    grouped = pureMS.groupby('treatment')\n",
    "\n",
    "    group_A = pureMS[pureMS['treatment'] == 'high']['Trad_wtp_point']\n",
    "    group_B = pureMS[pureMS['treatment'] == 'low']['Trad_wtp_point']\n",
    "\n",
    "    # Perform a two-sample t-test\n",
    "    t_stat, p_value = stats.ttest_ind(group_A, group_B)\n",
    "\n",
    "    print(type)\n",
    "    print(f'Two-Sample T-Test:')\n",
    "    print(f'T-Statistic: {t_stat}')\n",
    "    print(f'P-Value: {p_value}')\n",
    "    print()\n",
    "\n",
    "\n",
    "pureMS = data\n",
    "\n",
    "\n",
    "grouped = pureMS.groupby('treatment')\n",
    "\n",
    "group_A = pureMS[pureMS['treatment'] == 'high']['Trad_wtp_point']\n",
    "group_B = pureMS[pureMS['treatment'] == 'low']['Trad_wtp_point']\n",
    "\n",
    "# Perform a two-sample t-test\n",
    "t_stat, p_value = stats.ttest_ind(group_A, group_B)\n",
    "\n",
    "print(type)\n",
    "print(f'Two-Sample T-Test:')\n",
    "print(f'T-Statistic: {t_stat}')\n",
    "print(f'P-Value: {p_value}')\n",
    "print()\n",
    "\n",
    "\n",
    "\n",
    "\n",
    "\n",
    "for type in ['Trad_wtp_strict_pos_ES_wtp_equal_0']:\n",
    "    pureMS = data[data[type]]\n",
    "\n",
    "    grouped = pureMS.groupby('treatment')\n",
    "\n",
    "    group_A = pureMS[pureMS['treatment'] == 'high']['Trad_wtp_point']\n",
    "    group_B = pureMS[pureMS['treatment'] == 'low']['Trad_wtp_point']\n",
    "\n",
    "    # Perform a two-sample t-test\n",
    "\n",
    "    t_stat, p_value = stats.ttest_ind(group_A, group_B, alternative='less')\n",
    "\n",
    "    \n",
    "    print(type)\n",
    "    print(f'Two-Sample T-Test:')\n",
    "    print(f'T-Statistic: {t_stat}')\n",
    "    print(f'P-Value: {p_value}')\n",
    "    print()\n",
    "\n",
    "\n",
    "\n",
    "\n",
    "\n",
    "\n",
    "for type in ['Trad_wtp_strict_pos_ES_wtp_equal_Trad']:\n",
    "    pureMS = data[data[type]]\n",
    "\n",
    "    grouped = pureMS.groupby('treatment')\n",
    "\n",
    "    group_A = pureMS[pureMS['treatment'] == 'high']['Trad_wtp_point']\n",
    "    group_B = pureMS[pureMS['treatment'] == 'low']['Trad_wtp_point']\n",
    "\n",
    "    # Perform a two-sample t-test\n",
    "\n",
    "    t_stat, p_value = stats.ttest_ind(group_A, group_B, alternative='greater')\n",
    "\n",
    "    \n",
    "    print(type)\n",
    "    print(f'Two-Sample T-Test:')\n",
    "    print(f'T-Statistic: {t_stat}')\n",
    "    print(f'P-Value: {p_value}')\n",
    "    print()\n",
    "\n",
    "\n",
    "\n",
    "\n",
    "\n"
   ]
  },
  {
   "cell_type": "code",
   "execution_count": null,
   "metadata": {},
   "outputs": [
    {
     "data": {
      "image/png": "[encoded data removed]",
      "text/plain": [
       "<Figure size 400x300 with 1 Axes>"
      ]
     },
     "metadata": {},
     "output_type": "display_data"
    },
    {
     "data": {
      "image/png": "[encoded data removed]",
      "text/plain": [
       "<Figure size 400x300 with 1 Axes>"
      ]
     },
     "metadata": {},
     "output_type": "display_data"
    },
    {
     "data": {
      "image/png": "[encoded data removed]",
      "text/plain": [
       "<Figure size 400x300 with 1 Axes>"
      ]
     },
     "metadata": {},
     "output_type": "display_data"
    }
   ],
   "source": [
    "\n",
    "labels_unincentivized = {\n",
    "    'warhol': [('No', 'No (MS)'), ('Yes', 'Yes (ES)')],\n",
    "    'arkansas': [('Worse off', 'Worse off (MS)'), ('Better off', 'Better off (ES)')],\n",
    "    'experience': [('Yes', 'Yes (MS)'), ('No', 'No (ES)')],\n",
    "}\n",
    "\n",
    "\n",
    "def plot_and_save_cdf_by_unincentivized_answer(data, question, filename):\n",
    "    # Get unique treatment values\n",
    "    answers = labels_unincentivized[question]\n",
    "    \n",
    "    \n",
    "    # Create a figure and axis\n",
    "    fig, ax = plt.subplots(figsize=(4,3))\n",
    "    \n",
    "    # Loop through unique treatments and plot separate CDF for each\n",
    "    for answer in answers:\n",
    "\n",
    "        treatment_data = data[data[question] == answer[0]]\n",
    "        sorted_data = np.sort(treatment_data['wtp_ratio'])\n",
    "        cdf = np.arange(1, len(sorted_data) + 1) / len(sorted_data)\n",
    "\n",
    "        \n",
    "        linestyle = '-'\n",
    "        linewidth = 2\n",
    "        \n",
    "        label=answer[1]\n",
    "        ax.step(sorted_data, cdf, where='pre', label=label, linestyle=linestyle, linewidth=linewidth)\n",
    "        ax.set_xlim(-1.5, 1.5)\n",
    "    # Set title based on WTP_type\n",
    "    # if WTP_type == 'ES':\n",
    "    #     ax.set_title('ES CDF by treatment')\n",
    "    # elif WTP_type == 'Trad':\n",
    "    #     ax.set_title('WTP CDF by treatment')\n",
    "\n",
    "    ax.set_title(f'WTP-ratio CDF by {question}')\n",
    "\n",
    "    # Add labels and legend\n",
    "    ax.set_xlabel('Ratio')\n",
    "    ax.legend()\n",
    "    ax.margins(x=0,y=0)\n",
    "\n",
    "    plt.tight_layout()\n",
    "\n",
    "    # Save the figure in the subfolder\n",
    "    file_path = os.path.join(subfolder_path, f'{filename}.png')\n",
    "    plt.savefig(file_path)\n",
    "\n",
    "\n",
    "    # Display the plot (optional)\n",
    "    plt.show()\n",
    "\n",
    "\n",
    "cond1 = data['Trad_wtp_point'] > 0\n",
    "codn2 = data['treatment']=='middle'\n",
    "for question in labels_unincentivized.keys():\n",
    "    plot_and_save_cdf_by_unincentivized_answer(data[cond1 & cond2], question, f'wtp-ratio_cdf_small_steps_{question}')\n",
    "\n",
    "\n",
    "\n"
   ]
  },
  {
   "cell_type": "code",
   "execution_count": null,
   "metadata": {},
   "outputs": [],
   "source": []
  },
  {
   "cell_type": "code",
   "execution_count": null,
   "metadata": {},
   "outputs": [
    {
     "data": {
      "image/png": "[encoded data removed]",
      "text/plain": [
       "<Figure size 640x480 with 1 Axes>"
      ]
     },
     "metadata": {},
     "output_type": "display_data"
    },
    {
     "data": {
      "image/png": "[encoded data removed]",
      "text/plain": [
       "<Figure size 640x480 with 1 Axes>"
      ]
     },
     "metadata": {},
     "output_type": "display_data"
    },
    {
     "data": {
      "image/png": "[encoded data removed]",
      "text/plain": [
       "<Figure size 640x480 with 1 Axes>"
      ]
     },
     "metadata": {},
     "output_type": "display_data"
    },
    {
     "name": "stderr",
     "output_type": "stream",
     "text": [
      "/var/folders/6j/s1yqxb392j11117mvgndr8c40000gn/T/ipykernel_53400/3417764216.py:49: UserWarning: Boolean Series key will be reindexed to match DataFrame index.\n",
      "  data_between = clean_data[cond1 & cond2]\n"
     ]
    },
    {
     "data": {
      "image/png": "[encoded data removed]",
      "text/plain": [
       "<Figure size 640x480 with 1 Axes>"
      ]
     },
     "metadata": {},
     "output_type": "display_data"
    }
   ],
   "source": [
    "\n",
    "def process_and_plot_proportions(data, columnX, net_noise,filename):\n",
    "    grouped_data = data.groupby(columnX)\n",
    "    \n",
    "    proportions = []\n",
    "\n",
    "    for group_name, group_data in grouped_data:\n",
    "        cond1 = group_data['ES_wtp_point'] == 0 \n",
    "        cond2 = group_data['Trad_wtp_point'] > 0\n",
    "\n",
    "        pure_MS = group_data[cond1 & cond2]\n",
    "        pure_MS_prop = len(pure_MS) / len(group_data)\n",
    "\n",
    "        cond1 = group_data['ES_wtp_point'] > 0 \n",
    "        cond2 = group_data['Trad_wtp_point'] == 0\n",
    "\n",
    "        noise = group_data[cond1 & cond2]\n",
    "        noise_prop = len(noise) / len(group_data)\n",
    "\n",
    "        if net_noise:\n",
    "            net_noise_value = pure_MS_prop - noise_prop\n",
    "        else: \n",
    "            net_noise_value = pure_MS_prop\n",
    "        \n",
    "        proportions.append(net_noise_value)\n",
    "\n",
    "    # Plot the proportions as a bar chart\n",
    "    plt.bar(grouped_data.groups.keys(), proportions)\n",
    "    plt.xlabel(columnX)\n",
    "    plt.ylabel('Proportion' if net_noise else 'Pure MS Proportion')\n",
    "    plt.title(f'Proportions by {columnX}')\n",
    "    plt.xticks(rotation=45)\n",
    "\n",
    "    # Save the figure in the current working directory\n",
    "    plt.savefig(f'proportions_by_{columnX}_{filename}.png')\n",
    "    # Show the plot\n",
    "    plt.show()\n",
    "\n",
    "def process_data_and_save_plot(data, filename):\n",
    "    cond1 = data['ES_wtp_point'] >= 0 \n",
    "    cond2 = data['Trad_wtp_point'] > 0\n",
    "    clean_data = data[cond1 & cond2] \n",
    "      \n",
    "    pure_ES = sum(clean_data['ES_wtp_point'] == clean_data['Trad_wtp_point']) / len(clean_data)\n",
    "    pure_MS = sum(clean_data['ES_wtp_point'] == 0) / len(clean_data)\n",
    "\n",
    "    cond1 = data['ES_wtp_point'] > 0 \n",
    "    cond2 = data['Trad_wtp_point'] > data['ES_wtp_point']\n",
    "\n",
    "    data_between = clean_data[cond1 & cond2] \n",
    "\n",
    "    between = len(data_between) / len(clean_data)\n",
    "    strange = 1 - pure_ES - pure_MS - between\n",
    "\n",
    "    # Plot the results as a bar chart\n",
    "    labels = ['Pure ES', 'Pure MS', 'Between', 'Strange']\n",
    "    proportions = [pure_ES, pure_MS, between, strange]\n",
    "\n",
    "    plt.bar(labels, proportions)\n",
    "    plt.ylabel('Proportion')\n",
    "    plt.title('Proportions of Data Categories')\n",
    "\n",
    "    # Save the figure in the current working directory\n",
    "    plt.savefig(f'proportions_{filename}.png')\n",
    "\n",
    "    # Display the plot (optional)\n",
    "    plt.show()\n",
    "\n",
    "process_and_plot_proportions(data, 'experience', net_noise=True, filename='MS')\n",
    "process_and_plot_proportions(data, 'warhol', net_noise=True, filename='MS')\n",
    "process_and_plot_proportions(data, 'arkansas', net_noise=True, filename='MS')\n",
    "process_data_and_save_plot(data, 'welfare_notions_proportions')\n"
   ]
  },
  {
   "cell_type": "code",
   "execution_count": null,
   "metadata": {},
   "outputs": [],
   "source": []
  },
  {
   "cell_type": "markdown",
   "metadata": {},
   "source": []
  },
  {
   "cell_type": "markdown",
   "metadata": {},
   "source": []
  },
  {
   "cell_type": "code",
   "execution_count": null,
   "metadata": {},
   "outputs": [
    {
     "data": {
      "image/png": "[encoded data removed]",
      "text/plain": [
       "<Figure size 800x600 with 1 Axes>"
      ]
     },
     "metadata": {},
     "output_type": "display_data"
    },
    {
     "data": {
      "image/png": "[encoded data removed]",
      "text/plain": [
       "<Figure size 800x600 with 1 Axes>"
      ]
     },
     "metadata": {},
     "output_type": "display_data"
    },
    {
     "data": {
      "image/png": "[encoded data removed]",
      "text/plain": [
       "<Figure size 800x600 with 1 Axes>"
      ]
     },
     "metadata": {},
     "output_type": "display_data"
    },
    {
     "data": {
      "image/png": "[encoded data removed]",
      "text/plain": [
       "<Figure size 800x600 with 1 Axes>"
      ]
     },
     "metadata": {},
     "output_type": "display_data"
    },
    {
     "data": {
      "image/png": "[encoded data removed]",
      "text/plain": [
       "<Figure size 800x600 with 1 Axes>"
      ]
     },
     "metadata": {},
     "output_type": "display_data"
    },
    {
     "data": {
      "image/png": "[encoded data removed]",
      "text/plain": [
       "<Figure size 800x600 with 1 Axes>"
      ]
     },
     "metadata": {},
     "output_type": "display_data"
    },
    {
     "data": {
      "image/png": "[encoded data removed]",
      "text/plain": [
       "<Figure size 800x600 with 1 Axes>"
      ]
     },
     "metadata": {},
     "output_type": "display_data"
    },
    {
     "data": {
      "image/png": "[encoded data removed]",
      "text/plain": [
       "<Figure size 800x600 with 1 Axes>"
      ]
     },
     "metadata": {},
     "output_type": "display_data"
    }
   ],
   "source": [
    "CI_CONSTANT = 1.959964\n",
    "\n",
    "def create_and_save_chart(data, subfolder_path, column, title, filename, x_label, y_label, chart_type='bar', conditions=None):\n",
    "    if conditions is not None:\n",
    "        clean_data = data[conditions]\n",
    "    else:\n",
    "        clean_data = data\n",
    "\n",
    "    treatments = ['low', 'middle', 'high']\n",
    "    \n",
    "    # Create a figure and axis for the subplot\n",
    "    fig, ax = plt.subplots(figsize=(8, 6))\n",
    "    \n",
    "    if chart_type == 'bar':\n",
    "        # Calculate the mean and standard error of 'X' by treatment group\n",
    "        grouped_data = clean_data.groupby('treatment')[column]\n",
    "        mean_values = grouped_data.mean()\n",
    "        std_values = grouped_data.std()\n",
    "        std_error_values = std_values / np.sqrt(grouped_data.count())\n",
    "        \n",
    "        # Create a bar chart with error bars on the subplot 'ax'\n",
    "        ax.bar(treatments, [mean_values[treatments[0]],mean_values[treatments[1]],mean_values[treatments[2]]], yerr=[CI_CONSTANT*std_error_values[treatments[0]],CI_CONSTANT*std_error_values[treatments[1]],CI_CONSTANT*std_error_values[treatments[2]]], capsize=5)\n",
    "        ax.set_xlabel(x_label)\n",
    "        ax.set_ylabel(y_label)\n",
    "    elif chart_type == 'cdf':\n",
    "        # Loop through unique treatments and plot separate CDF for each\n",
    "        for treatment in treatments:\n",
    "            treatment_data = clean_data[clean_data['treatment'] == treatment]\n",
    "            sorted_data = np.sort(treatment_data[column])\n",
    "            cdf = np.arange(1, len(sorted_data) + 1) / len(sorted_data)\n",
    "            ax.step(sorted_data, cdf, where='post', label=f'{treatment}')\n",
    "        \n",
    "        ax.set_xlabel(x_label)\n",
    "        ax.set_ylabel(y_label)\n",
    "        ax.legend()\n",
    "    \n",
    "    ax.set_title(title)\n",
    "\n",
    "    # Save the plot in the subfolder\n",
    "    file_path = os.path.join(subfolder_path, filename)\n",
    "    plt.savefig(file_path)\n",
    "\n",
    "    # Display the plot (optional)\n",
    "    plt.show()\n",
    "\n",
    "# Figure 1\n",
    "create_and_save_chart(data, subfolder_path, 'ES_wtp_point', 'Mean of WTP_ES by Treatment Group with Standard Error',\n",
    "                      'fig_1.png', 'Treatment Group', 'WTP_ES', chart_type='bar',\n",
    "                      conditions=data['Trad_wtp_point'] > 0)\n",
    "\n",
    "# Figure 2\n",
    "create_and_save_chart(data, subfolder_path, 'ES_wtp_point', 'Stepwise CDF of WTP_ES by Treatment',\n",
    "                      'fig_2.png', 'WTP_ES', 'CDF WTP_ES', chart_type='cdf',\n",
    "                      conditions=data['Trad_wtp_point'] > 0)  \n",
    "\n",
    "# Figure 3 w/o cutting\n",
    "create_and_save_chart(data, subfolder_path, 'share_ES', 'Mean of WTP_ES/WTP_Trad by Treatment',\n",
    "                      'fig_3_wo_cutting.png', 'Treatment Group', 'WTP_ES/WTP_Trad', chart_type='bar',\n",
    "                      conditions=data['Trad_wtp_point'] > 0)  \n",
    "\n",
    "# Figure 3 w/ cutting \n",
    "cond1 = data['Trad_wtp_point'] > 0\n",
    "# cond2 = data['share_ES'] > 0\n",
    "cond3 = data['share_ES'] <= 1\n",
    "create_and_save_chart(data, subfolder_path, 'share_ES', 'Mean of WTP_ES/WTP_Trad by Treatment (WTP_ES/WTP_Trad<=1)',\n",
    "                      'fig_3_w_cutting.png', 'Treatment Group', 'WTP_ES/WTP_Trad', chart_type='bar',\n",
    "                      conditions=cond1 & cond3)  \n",
    "\n",
    "# Figure 4 \n",
    "cond1 = data['Trad_wtp_point'] > 0\n",
    "cond2 = data['share_ES'] > 0\n",
    "cond3 = data['share_ES'] < 1\n",
    "create_and_save_chart(data, subfolder_path, 'share_ES', 'Mean of WTP_ES/WTP_Trad by Treatment (0<WTP_ES/WTP_Trad<1)',\n",
    "                      'fig_4.png', 'Treatment Group', 'WTP_ES/WTP_Trad', chart_type='bar',\n",
    "                      conditions=cond1 & cond2 & cond3)  \n",
    "\n",
    "\n",
    "# labels_unincentivized = {\n",
    "#     'warhol': [('No', 'No (MS)'), ('Yes', 'Yes (ES)')],\n",
    "#     'arkansas': [('Worse off', 'Worse off (MS)'), ('Better off', 'Better off (ES)')],\n",
    "#     'experience': [('Yes', 'Yes (MS)'), ('No', 'No (ES)')],\n",
    "# }\n",
    "\n",
    "def create_and_save_chart(data, subfolder_path, question, columns, title, filename, y_label, conditions=None):\n",
    "    if conditions is not None:\n",
    "        clean_data = data[conditions]\n",
    "    else:\n",
    "        clean_data = data\n",
    "\n",
    "    treatments = [labels_unincentivized[question][el][0] for el in range(len(labels_unincentivized[question]))]\n",
    "    labels = [labels_unincentivized[question][el][1] for el in range(len(labels_unincentivized[question]))]\n",
    "\n",
    "    # Create a figure and axis for the subplot\n",
    "    fig, ax = plt.subplots(figsize=(8, 6))\n",
    "\n",
    "    # Calculate the mean and standard error of columns by treatment group\n",
    "    grouped_data = clean_data.groupby(question)[columns]\n",
    "    mean_values = grouped_data.mean()\n",
    "    std_values = grouped_data.std()\n",
    "    std_error_values = std_values / np.sqrt(grouped_data.count())\n",
    "\n",
    "    x = np.arange(len(treatments))\n",
    "    width = 0.35\n",
    "\n",
    "    for i in range(len(columns)):\n",
    "        ax.bar(x + i * width, mean_values[columns[i]], width, yerr=CI_CONSTANT*std_error_values[columns[i]], label=columns[i])\n",
    "\n",
    "    ax.set_xticks(x + (width * (len(columns) - 1)) / 2)\n",
    "    ax.set_xticklabels(labels)\n",
    "    ax.set_ylabel(y_label)\n",
    "    ax.legend()\n",
    "\n",
    "    ax.set_title(title)\n",
    "\n",
    "    # Save the plot in the subfolder\n",
    "    file_path = os.path.join(subfolder_path, filename)\n",
    "    plt.savefig(file_path)\n",
    "\n",
    "    # Display the plot (optional)\n",
    "    plt.show()\n",
    "\n",
    "# Figures 5\n",
    "columns = ['pure_ES', 'pure_MS']\n",
    "create_and_save_chart(data, subfolder_path, 'warhol', columns, 'Share of pure_MS and pure_ES by warhol question', 'fig5_warhol_share.png', 'share', conditions=data['Trad_wtp_point'] > 0)\n",
    "create_and_save_chart(data, subfolder_path, 'experience', columns, 'Share of pure_MS and pure_ES by experience question', 'fig5_experience_share.png', 'share', conditions=data['Trad_wtp_point'] > 0)\n",
    "create_and_save_chart(data, subfolder_path, 'arkansas', columns, 'Share of pure_MS and pure_ES by arkansas question', 'fig5_arkansas_share.png', 'share', conditions=data['Trad_wtp_point'] > 0)"
   ]
  },
  {
   "cell_type": "code",
   "execution_count": null,
   "metadata": {},
   "outputs": [],
   "source": []
  },
  {
   "cell_type": "code",
   "execution_count": null,
   "metadata": {},
   "outputs": [
    {
     "ename": "NameError",
     "evalue": "name 'data' is not defined",
     "output_type": "error",
     "traceback": [
      "\u001b[0;31m---------------------------------------------------------------------------\u001b[0m",
      "\u001b[0;31mNameError\u001b[0m                                 Traceback (most recent call last)",
      "Cell \u001b[0;32mIn[1], line 1\u001b[0m\n\u001b[0;32m----> 1\u001b[0m \u001b[43mdata\u001b[49m\n",
      "\u001b[0;31mNameError\u001b[0m: name 'data' is not defined"
     ]
    }
   ],
   "source": [
    "data"
   ]
  },
  {
   "cell_type": "code",
   "execution_count": null,
   "metadata": {},
   "outputs": [],
   "source": []
  },
  {
   "cell_type": "code",
   "execution_count": null,
   "metadata": {},
   "outputs": [],
   "source": []
  },
  {
   "cell_type": "code",
   "execution_count": null,
   "metadata": {},
   "outputs": [],
   "source": []
  },
  {
   "cell_type": "code",
   "execution_count": null,
   "metadata": {},
   "outputs": [],
   "source": []
  }
 ],
 "metadata": {
  "kernelspec": {
   "display_name": "jupyter-venv",
   "language": "python",
   "name": "python3"
  },
  "language_info": {
   "codemirror_mode": {
    "name": "ipython",
    "version": 3
   },
   "file_extension": ".py",
   "mimetype": "text/x-python",
   "name": "python",
   "nbconvert_exporter": "python",
   "pygments_lexer": "ipython3",
   "version": "3.11.2"
  },
  "orig_nbformat": 4
 },
 "nbformat": 4,
 "nbformat_minor": 2
}
